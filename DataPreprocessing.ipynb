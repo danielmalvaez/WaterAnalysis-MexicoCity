{
 "cells": [
  {
   "cell_type": "markdown",
   "id": "bd4174ac",
   "metadata": {},
   "source": [
    "# Data Preprocessing for Water Analysis in Mexico City\n",
    "\n",
    "* Date : Aug 2025\n",
    "* Author : Axel Daniel Malváez Flores\n",
    "* Description : This notebook contains the data preprocessing steps for the water analysis project in Mexico City. It includes loading, cleaning, and transforming various datasets related to water consumption, property data, and population data."
   ]
  },
  {
   "cell_type": "markdown",
   "id": "4f4617f9",
   "metadata": {},
   "source": [
    "### Libraries"
   ]
  },
  {
   "cell_type": "code",
   "execution_count": 246,
   "id": "157f9ee0",
   "metadata": {},
   "outputs": [],
   "source": [
    "import pandas as pd\n",
    "import numpy as np\n",
    "import geopandas as gpd\n",
    "import pyarrow as pa\n",
    "import pyarrow.dataset as ds\n",
    "\n",
    "from unidecode import unidecode\n",
    "\n",
    "import json\n",
    "import warnings\n",
    "\n",
    "warnings.filterwarnings(\"ignore\")"
   ]
  },
  {
   "cell_type": "markdown",
   "id": "6c0b7d39",
   "metadata": {},
   "source": [
    "### Constants"
   ]
  },
  {
   "cell_type": "code",
   "execution_count": 247,
   "id": "11c01e42",
   "metadata": {},
   "outputs": [],
   "source": [
    "# WATER DATASETS\n",
    "\n",
    "# Data consumption during the whole 2019 by neighborhood\n",
    "watConsPath=\"../raw-data/water/consumo/consumo_agua_historico_2019.csv\"\n",
    "# Municipalities with drought data and higher/lower probability of drought\n",
    "droughtPath=\"../raw-data/water/sequia/Municipios_con_ sequia.xlsx\"\n",
    "# Water Reports in Mexico City by neighborhood.\n",
    "reports2224Path=\"../raw-data/water/reportes/reportes_agua_2024_01.csv\"\n",
    "reportsHistory=\"../raw-data/water/reportes/reportes_agua_hist.csv\"\n",
    "# Hidric feasibility\n",
    "hidFeasPath=\"../raw-data/water/factibilidad/factibilidad-hdrica.json\"\n",
    "# Consumption every two months by neighborhood\n",
    "habPath=(\"../raw-data/water/consumo/consumo-habitacional-promedio-\"\n",
    "           \"bimestral-de-agua-por-colonia-m3.json\")    \n",
    "\n",
    "# PROPERTY DATASETS\n",
    "\n",
    "# Index SHF for housing price in the area\n",
    "indexSHFPath=\"../raw-data/property-population/SHF/indice_SHF.csv\"\n",
    "# Population Growth Rate\n",
    "growthRateAlcPath=(\"../raw-data/property-population/CrecimientoPoblacional/\"\n",
    "                     \"poblacion_total_tasa_crecimiento_alcaldia_1.2.csv\")\n",
    "# Density\n",
    "housesColPath=(\"../raw-data/property-population/\"\n",
    "                \"Hogares por colonia/hogares_colonia.shp\")\n",
    "# Concentración habitacional\n",
    "densPath = (\"../raw-data/property-population/alta_concentracion/\"\n",
    "            \"zonas_vivienda.shp\")\n",
    "\n",
    "# ALCALDIA DELIMITATION\n",
    "\n",
    "alcaldiaPath = \"../raw-data/water/sequia/limite-de-las-alcaldias.json\""
   ]
  },
  {
   "cell_type": "markdown",
   "id": "ea1b194a",
   "metadata": {},
   "source": [
    "### Data Reading and Preprocessing"
   ]
  },
  {
   "cell_type": "code",
   "execution_count": 248,
   "id": "600614a9",
   "metadata": {},
   "outputs": [],
   "source": [
    "# ---------------------\n",
    "# WATER DATA\n",
    "# ---------------------\n",
    "\n",
    "# Water Consumption 2019\n",
    "watCons19 = pd.read_csv(watConsPath)\n",
    "\n",
    "# Drought MEX CITY\n",
    "drought = pd.read_excel(droughtPath, sheet_name='MONITOR - SEMAFORO - USO EFIC')\n",
    "\n",
    "# Water Reports in Mexico City by neighborhood.\n",
    "reports2224 = pd.read_csv(reports2224Path)\n",
    "reportsHist = pd.read_csv(reportsHistory)\n",
    "\n",
    "# Hidric feasibility\n",
    "with open(hidFeasPath, \"r\", encoding=\"utf-8\") as f : \n",
    "    feasFeat = json.load(f)\n",
    "feasibility = gpd.GeoDataFrame.from_features(feasFeat[\"features\"])\n",
    "\n",
    "# Consumption every two months by neighborhood\n",
    "with open(habPath, \"r\", encoding=\"utf-8\") as f : \n",
    "    habConsFeats = json.load(f)\n",
    "habCons = gpd.GeoDataFrame.from_features(habConsFeats['features'])\n",
    "\n",
    "# ---------------------\n",
    "# PROPERTY DATA\n",
    "# ---------------------\n",
    "\n",
    "hogaresCol = gpd.read_file(housesColPath) \n",
    "indexSHF = pd.read_csv(indexSHFPath, encoding='iso-8859-1', delimiter=';')\n",
    "popGrowthRateAlc = pd.read_csv(growthRateAlcPath,encoding='utf-8')\n",
    "density = gpd.read_file(densPath)\n",
    "\n",
    "\n",
    "# --------------------\n",
    "# ALCALDIA DATA\n",
    "# --------------------\n",
    "\n",
    "with open(alcaldiaPath, 'r', encoding='utf-8') as f:\n",
    "    data = json.load(f)\n",
    "alcaldiaGeo = gpd.GeoDataFrame.from_features(data['features'])"
   ]
  },
  {
   "cell_type": "markdown",
   "id": "9df8c940",
   "metadata": {},
   "source": [
    "### Processing Datasets"
   ]
  },
  {
   "cell_type": "markdown",
   "id": "56e1686b",
   "metadata": {},
   "source": [
    "#### Water Consumption Data 2019\n",
    "\n",
    "Información bimestral por el concepto de suministro de agua a nivel manzana, considerando la facturación por servicio de consumo medido y promedio."
   ]
  },
  {
   "cell_type": "code",
   "execution_count": 249,
   "id": "dc8626c1",
   "metadata": {},
   "outputs": [],
   "source": [
    "watCons19.fillna(0, inplace=True)"
   ]
  },
  {
   "cell_type": "code",
   "execution_count": 250,
   "id": "2c636413",
   "metadata": {},
   "outputs": [],
   "source": [
    "watCons19.drop_duplicates(inplace=True)\n",
    "\n",
    "# Date \n",
    "watCons19['fecha_referencia'] = pd.to_datetime(watCons19['fecha_referencia'],\n",
    "                                               format='ISO8601')\n",
    "\n",
    "# Drop Duplicates \n",
    "watCons19[['fecha_referencia', 'anio', 'bimestre', 'indice_des', 'colonia',\n",
    "           'alcaldia', 'latitud', 'longitud']].drop_duplicates(inplace=True)\n",
    "\n",
    "# Adding derived columns for total consumption\n",
    "inDom = watCons19['consumo_total_dom'] / watCons19['consumo_prom_dom']\n",
    "watCons19['inmuebles_domesticos'] = inDom\n",
    "\n",
    "inNoDom = watCons19['consumo_total_no_dom'] / watCons19['consumo_prom_no_dom']\n",
    "watCons19['inmuebles_no_domesticos'] = inNoDom\n",
    "\n",
    "inMix = watCons19['consumo_total_mixto'] / watCons19['consumo_prom_mixto']\n",
    "watCons19['inmuebles_mixtos'] = inMix\n",
    "\n",
    "# replace NaN values with 0 in the derived column\n",
    "watCons19['inmuebles_domesticos'].fillna(0, inplace=True)\n",
    "watCons19['inmuebles_no_domesticos'].fillna(0, inplace=True)\n",
    "watCons19['inmuebles_mixtos'].fillna(0, inplace=True)\n",
    "\n",
    "# Data structure and column ordering\n",
    "watCons19 = watCons19[['fecha_referencia', 'consumo_total',\n",
    "                       'inmuebles_domesticos', 'consumo_total_dom',\n",
    "                       'consumo_prom_dom', 'inmuebles_no_domesticos',\n",
    "                       'consumo_total_no_dom', 'consumo_prom_no_dom',\n",
    "                       'inmuebles_mixtos', 'consumo_total_mixto',\n",
    "                       'consumo_prom_mixto', 'indice_des', 'colonia',\n",
    "                       'alcaldia']]\n",
    "\n",
    "# Adding total consumption and total number of properties\n",
    "watCons19['total_inmuebles'] = watCons19['inmuebles_domesticos'] + watCons19['inmuebles_no_domesticos'] + watCons19['inmuebles_mixtos'] "
   ]
  },
  {
   "cell_type": "markdown",
   "id": "f1518828",
   "metadata": {},
   "source": [
    "* OUTPUT"
   ]
  },
  {
   "cell_type": "code",
   "execution_count": 251,
   "id": "abe38ffd",
   "metadata": {},
   "outputs": [],
   "source": [
    "def normalizer(df, col, type='lower'):\n",
    "    if type == 'lower':\n",
    "        df[col] = df[col].apply(lambda x : str(x).lower())\n",
    "    else :\n",
    "        df[col] = df[col].apply(lambda x : str(x).title())\n",
    "\n",
    "    df[col] = df[col].apply(lambda x : unidecode(x))"
   ]
  },
  {
   "cell_type": "code",
   "execution_count": 252,
   "id": "1ca0773d",
   "metadata": {},
   "outputs": [],
   "source": [
    "normalizer(watCons19, \"colonia\", \"lower\")\n",
    "normalizer(watCons19, \"alcaldia\", \"title\")\n",
    "\n",
    "watCons19.to_csv(\"../data/consumoAgua19.csv\", index=False)"
   ]
  },
  {
   "cell_type": "markdown",
   "id": "adf96496",
   "metadata": {},
   "source": [
    "#### Habitational Consumption Data"
   ]
  },
  {
   "cell_type": "markdown",
   "id": "5337bdac",
   "metadata": {},
   "source": [
    "Diccionario : \n",
    "\n",
    "**SUM_cons_t**   \n",
    "Suma del consumo total de agua por colonia (m3) por bimestre\n",
    "\n",
    "**MEAN_cons_**   \n",
    "Promedio de consumo total de colonia (m3) por bimestre\n",
    "\n",
    "**VIV2010**   \n",
    "Vivienda censo 2010\n",
    "\n",
    "**PROMVIVCON**   \n",
    "\"Promedio de consumo total de agua de la colonia por número de viviendas\"\n",
    "\n",
    "**C_PROMVIVC**   \n",
    "\"Campo reclasificado en cuantiles en 5 rangos a partir de \"PROMVIVCON\"; donde el valor \"5\" corresponde a un consumo de agua muy alto, mientras que el número \"1\" a un consumo bajo\"\n",
    "\n"
   ]
  },
  {
   "cell_type": "code",
   "execution_count": 253,
   "id": "35fdedbb",
   "metadata": {},
   "outputs": [],
   "source": [
    "normalizer(habCons, \"colonia\", \"lower\")\n",
    "normalizer(habCons, \"alcaldia\", \"title\")\n",
    "\n",
    "habCons = habCons.drop(columns=[\"cve_ent\", \"OBJECTID\", \"FREQUENCY\"])"
   ]
  },
  {
   "cell_type": "code",
   "execution_count": 254,
   "id": "7f0164d2",
   "metadata": {},
   "outputs": [],
   "source": [
    "# Last Value is a None value\n",
    "habCons = habCons.iloc[:-1]"
   ]
  },
  {
   "cell_type": "markdown",
   "id": "f674c46c",
   "metadata": {},
   "source": [
    "#### Habitational Density"
   ]
  },
  {
   "cell_type": "code",
   "execution_count": 255,
   "id": "3af7ec3e",
   "metadata": {},
   "outputs": [],
   "source": [
    "# 1. Both GeoDataFrames use the same coordinate reference system (CRS)\n",
    "hogaresCol = hogaresCol.to_crs(density.crs)"
   ]
  },
  {
   "cell_type": "code",
   "execution_count": 256,
   "id": "40e35194",
   "metadata": {},
   "outputs": [],
   "source": [
    "# 2. Perform spatial join\n",
    "hogares_with_grado = gpd.sjoin(\n",
    "    hogaresCol,\n",
    "    density[['geometry', 'grado', 'ID']],  # only keep necessary columns\n",
    "    predicate='intersects',  # 'intersects' if geometries overlap partially\n",
    "    how='left'\n",
    ")"
   ]
  },
  {
   "cell_type": "code",
   "execution_count": 257,
   "id": "c7f8802f",
   "metadata": {},
   "outputs": [],
   "source": [
    "hogares_with_grado = hogares_with_grado.sort_values(by=\"ID\", ascending=False).drop_duplicates(subset=\"cve_col\").sort_values(by=\"cve_col\")"
   ]
  },
  {
   "cell_type": "code",
   "execution_count": 258,
   "id": "d07f81b9",
   "metadata": {},
   "outputs": [],
   "source": [
    "normalizer(hogares_with_grado, \"colonia\", \"lower\")\n",
    "normalizer(hogares_with_grado, \"alcaldia\", \"title\")"
   ]
  },
  {
   "cell_type": "markdown",
   "id": "e6754883",
   "metadata": {},
   "source": [
    "#### Saving both datasets"
   ]
  },
  {
   "cell_type": "code",
   "execution_count": 259,
   "id": "233b7588",
   "metadata": {},
   "outputs": [],
   "source": [
    "# Last Value is a None value\n",
    "habCons = pd.merge(habCons,\n",
    "                   hogares_with_grado[['cve_col', 'Sum_TotHog']],\n",
    "                   on=\"cve_col\",\n",
    "                   how=\"left\")\n",
    "\n",
    "habCons = habCons.sort_values(by=\"SUM_cons_t\", ascending=False).reset_index()"
   ]
  },
  {
   "cell_type": "code",
   "execution_count": 260,
   "id": "ff2ec06a",
   "metadata": {},
   "outputs": [],
   "source": [
    "habCons.to_csv(\"../data/habCons.csv\", index=False)\n",
    "hogares_with_grado.to_csv(\"../data/hogaresColDensity.csv\", index=False)"
   ]
  },
  {
   "cell_type": "markdown",
   "id": "a952e94b",
   "metadata": {},
   "source": [
    "#### Factibility Data"
   ]
  },
  {
   "cell_type": "markdown",
   "id": "64483bf1",
   "metadata": {},
   "source": [
    "| Grado de Factibilidad Hídrica | Descripción / Significado                                | Color       \n",
    "| ----------------------------- | -------------------------------------------------------- | ----------- \n",
    "| Alta factibilidad 🌟          | Zonas con alta capacidad para mitigar riesgo de escasez  | 🟩 Verde    \n",
    "| Media-alta factibilidad ⚠️    | Zonas con buena capacidad, pero con algunas limitaciones | 🟨 Amarillo \n",
    "| Media-baja factibilidad 🔶    | Zonas con capacidad limitada para mitigar riesgo         | 🟧 Naranja  \n",
    "| Baja factibilidad ❌           | Zonas con poca o nula capacidad para mitigar riesgo      | 🟥 Rojo    "
   ]
  },
  {
   "cell_type": "code",
   "execution_count": 261,
   "id": "7c492d19",
   "metadata": {},
   "outputs": [],
   "source": [
    "# Deleting last value since it contains an invalid coordinate\n",
    "feasibility = feasibility.iloc[:-1,:]\n",
    "feasibility.rename(columns={'NOMBRE':'colonia', 'DELEGACIO' : 'alcaldia'}, inplace=True)"
   ]
  },
  {
   "cell_type": "code",
   "execution_count": 262,
   "id": "15ba14ee",
   "metadata": {},
   "outputs": [],
   "source": [
    "normalizer(feasibility, \"colonia\", \"lower\")\n",
    "normalizer(feasibility, \"alcaldia\", \"title\")"
   ]
  },
  {
   "cell_type": "code",
   "execution_count": 263,
   "id": "237b7629",
   "metadata": {},
   "outputs": [],
   "source": [
    "factibilidadNorm = gpd.sjoin(\n",
    "    feasibility,\n",
    "    habCons[['geometry', 'colonia', 'alcaldia']],  # only keep necessary columns\n",
    "    predicate='intersects',  # 'intersects' if geometries overlap partially\n",
    "    how='left'\n",
    ")\n",
    "\n",
    "factibilidadNorm = factibilidadNorm.reset_index()"
   ]
  },
  {
   "cell_type": "code",
   "execution_count": 264,
   "id": "d281be67",
   "metadata": {},
   "outputs": [],
   "source": [
    "def jaccard_similarity_words(text1, text2):\n",
    "    \"\"\"\n",
    "    Compute Jaccard similarity between two texts\n",
    "    using words as tokens.\n",
    "    \"\"\"\n",
    "    # Convert to lowercase and split into words\n",
    "    set1 = set(text1.lower().split())\n",
    "    set2 = set(text2.lower().split())\n",
    "    \n",
    "    # Compute intersection and union\n",
    "    intersection = len(set1.intersection(set2))\n",
    "    union = len(set1.union(set2))\n",
    "    \n",
    "    if union == 0:\n",
    "        return 0\n",
    "    return intersection / union"
   ]
  },
  {
   "cell_type": "code",
   "execution_count": 265,
   "id": "7235ab86",
   "metadata": {},
   "outputs": [
    {
     "data": {
      "text/plain": [
       "2408"
      ]
     },
     "execution_count": 265,
     "metadata": {},
     "output_type": "execute_result"
    }
   ],
   "source": [
    "idxList = []\n",
    "for idx, row in factibilidadNorm.iterrows():\n",
    "    simCol = jaccard_similarity_words(row[\"colonia_left\"], row[\"colonia_right\"])\n",
    "    simAlc = jaccard_similarity_words(row[\"alcaldia_left\"], row[\"alcaldia_right\"])\n",
    "    if 0.3 < simCol and simAlc == 1:\n",
    "        idxList.append(idx)        \n",
    "\n",
    "len(idxList)"
   ]
  },
  {
   "cell_type": "code",
   "execution_count": 266,
   "id": "5645421a",
   "metadata": {},
   "outputs": [],
   "source": [
    "factibilidadNorm = factibilidadNorm.iloc[idxList, ]\n",
    "\n",
    "factibilidadNorm.drop_duplicates(subset=[\"colonia_right\", \"alcaldia_right\"], inplace=True)\n",
    "factibilidadNorm.drop_duplicates(subset=[\"colonia_left\", \"alcaldia_left\"], inplace=True)\n",
    "\n",
    "factibilidadNorm = factibilidadNorm.drop(columns=[\"colonia_left\", \"alcaldia_left\", \"index_right\", \"ID\", \"ENTIDAD\", \"MUNICIPIO\"])\n",
    "\n",
    "factibilidadNorm.rename(columns={\"colonia_right\" : \"colonia\",\n",
    "                                 \"alcaldia_right\" : \"alcaldia\"}, inplace = True)"
   ]
  },
  {
   "cell_type": "code",
   "execution_count": 267,
   "id": "d8ffe63d",
   "metadata": {},
   "outputs": [],
   "source": [
    "factibilidadNorm.to_csv(\"../data/feasibilityMexCity.csv\", index=False)"
   ]
  },
  {
   "cell_type": "markdown",
   "id": "4daada8d",
   "metadata": {},
   "source": [
    "#### Probabilidad de Escasez"
   ]
  },
  {
   "cell_type": "code",
   "execution_count": 268,
   "id": "247728dd",
   "metadata": {},
   "outputs": [],
   "source": [
    "cldCols = drought.columns.to_series().where(\n",
    "    ~drought.columns.str.contains('^Unnamed'), '')\n",
    "drought.columns = [x + '/' + y if x != '' else y \n",
    "                    for x, y in zip(cldCols, drought.iloc[0].astype(str))]\n",
    "drought = drought.iloc[1:].reset_index().iloc[:,1:]"
   ]
  },
  {
   "cell_type": "code",
   "execution_count": 269,
   "id": "9fdb8146",
   "metadata": {},
   "outputs": [],
   "source": [
    "# Setting CRS to standard and geo interface\n",
    "alcaldiaCDMX = alcaldiaGeo.set_crs(epsg=4326, inplace=True)\n",
    "geojson = alcaldiaCDMX.__geo_interface__\n",
    "\n",
    "# Identify idVars (the static columns)\n",
    "idVars = ['Region de lluvias y fecha de solicitud de corroboración', \n",
    "           'CVE_CONCATENADA', 'CVE_ENT', 'CVE_MUN', 'NOMBRE_MUN', 'ENTIDAD',\n",
    "           'ORG_CUENCA', 'CLV_OC', 'CON_CUENCA', 'CVE_CONC']\n",
    "\n",
    "# Melt all other columns\n",
    "meltedDF = drought.melt(id_vars=idVars,\n",
    "                         var_name='variable',\n",
    "                         value_name='value')\n",
    "\n",
    "# Create category and date columns\n",
    "category = []\n",
    "date = []\n",
    "for i in meltedDF['variable'].astype(str):\n",
    "    tup = i.split('/')\n",
    "    category.append(tup[0])\n",
    "    date.append(tup[1])\n",
    "\n",
    "meltedDF['CATEGORY'] = category\n",
    "meltedDF['CATEGORY'] = meltedDF['CATEGORY'].str.replace(r'\\.\\d+$', '',\n",
    "                                                          regex=True)\n",
    "\n",
    "meltedDF['DATE'] = pd.to_datetime(date)\n",
    "meltedDF['MONTH'] = meltedDF['DATE'].dt.month_name()\n",
    "meltedDF['YEAR'] = meltedDF['DATE'].dt.year\n",
    "meltedDF['DATE'] = meltedDF['DATE'].dt.strftime('%Y-%m')\n",
    "\n",
    "# Mexico city filter, adding map and taking MAGNITUD value only\n",
    "mxcDrought = meltedDF[(meltedDF['ENTIDAD'] == 'Ciudad de México')\n",
    "                        & (meltedDF['CATEGORY'] == 'MAGNITUD')]\n",
    "mxcDrought = pd.merge(mxcDrought, alcaldiaCDMX[['CVE_MUN', 'geometry']],\n",
    "                       on='CVE_MUN', how='left')\n",
    "\n",
    "color_map = {\n",
    "    'SIN SEQUIA': '#f0f0f0',     # Very light gray / near white\n",
    "    'PRE-ALERTA': '#a6d96a',     # Light gray\n",
    "    'VERDE': '#1a9850',          # Dark green\n",
    "    'AMARILLO': '#ffffbf',       # Yellow\n",
    "    'NARANJA': '#fdae61',        # Orange\n",
    "    'ROJO': '#d73027'            # Red\n",
    "}\n",
    "\n",
    "mxcDrought['color'] = mxcDrought[mxcDrought['CATEGORY'] == 'MAGNITUD']['value'].map(color_map)\n",
    "mxcDrought = gpd.GeoDataFrame(mxcDrought, geometry='geometry')\n",
    "# mxcDrought[\"geometry\"] = mxcDrought[\"geometry\"].simplify(tolerance=0.0005,\n",
    "# preserve_topology=True)\n",
    "\n",
    "# Data Processing\n",
    "number_map = {\n",
    "    'SIN SEQUIA': 1,     # Very light gray / near white\n",
    "    'PRE-ALERTA': 2,     # Light gray\n",
    "    'VERDE': 3,          # Dark green\n",
    "    'AMARILLO': 4,       # Yellow\n",
    "    'NARANJA': 5,        # Orange\n",
    "    'ROJO': 6            # Red\n",
    "}\n",
    "\n",
    "mxcDrought['VALUE'] = mxcDrought[mxcDrought['CATEGORY'] == 'MAGNITUD']['value'].map(number_map)\n",
    "mxcDrought['DATE'] = pd.to_datetime(mxcDrought['DATE'])"
   ]
  },
  {
   "cell_type": "code",
   "execution_count": 270,
   "id": "6659e66e",
   "metadata": {},
   "outputs": [],
   "source": [
    "mappingValue = {\n",
    "    6 : \"Sequía crítica\",\n",
    "    5 : \"Sequía severa\",\n",
    "    4 : \"Sequía moderada\",\n",
    "    3 : \"Sequía mínima\",\n",
    "    2 : \"Anormalmente seco\",\n",
    "    1 : \"Sin sequía\"   \n",
    "}\n",
    "\n",
    "mxcDrought[\"DESC\"] = mxcDrought[\"VALUE\"].map(mappingValue)"
   ]
  },
  {
   "cell_type": "markdown",
   "id": "ceb4c31b",
   "metadata": {},
   "source": [
    "* OUTPUT"
   ]
  },
  {
   "cell_type": "code",
   "execution_count": 271,
   "id": "eababb7d",
   "metadata": {},
   "outputs": [],
   "source": [
    "normalizer(mxcDrought, \"NOMBRE_MUN\", \"title\")"
   ]
  },
  {
   "cell_type": "code",
   "execution_count": 272,
   "id": "220c5b38",
   "metadata": {},
   "outputs": [],
   "source": [
    "mxcDroughtDropped = mxcDrought.drop(columns=['Region de lluvias y fecha de solicitud de corroboración', 'CVE_CONCATENADA', 'CVE_ENT', 'CLV_OC', 'variable', 'ORG_CUENCA', 'CON_CUENCA', 'CVE_CONC', 'CATEGORY'])"
   ]
  },
  {
   "cell_type": "code",
   "execution_count": 273,
   "id": "ef35cf5c",
   "metadata": {},
   "outputs": [],
   "source": [
    "mxcDroughtDropped.to_csv(\"../data/droughtMexCity.csv\", index=False)"
   ]
  },
  {
   "cell_type": "markdown",
   "id": "a48a4b41",
   "metadata": {},
   "source": [
    "#### Reportes de Agua"
   ]
  },
  {
   "cell_type": "markdown",
   "id": "c01a57a7",
   "metadata": {},
   "source": [
    "Info : \n",
    "- Data ranging from 2018 to 2024\n",
    "\n",
    "* History of reports\n",
    "    * The most common report\n",
    "    * Separate all this by alcaldia and colonia\n",
    "\n",
    "* Analyze time and identify trends/patterns in which all this reports are made.\n",
    "    * Tipically after what hour or during which range of hours."
   ]
  },
  {
   "cell_type": "code",
   "execution_count": 274,
   "id": "9a2934f6",
   "metadata": {},
   "outputs": [],
   "source": [
    "reports2224 = reports2224[['fecha_reporte','hora_reporte', 'reporte',\n",
    "                           'alcaldia_catalogo', 'colonia_catalogo',\n",
    "                           'longitud', 'latitud']]\n",
    "reportsHist = reportsHist[['fecha','tipo_de_falla', 'alcaldia',\n",
    "                           'colonia_datos_abiertos', 'longitud', 'latitud']]\n",
    "\n",
    "new_names_cols = {'tipo_de_falla' : 'reporte', \n",
    "                  'alcaldia_catalogo' : 'alcaldia', \n",
    "                  'colonia_catalogo' : 'colonia',\n",
    "                  'colonia_datos_abiertos' : 'colonia',\n",
    "                  'fecha_reporte' : 'fecha'\n",
    "                  }\n",
    "\n",
    "reportsHist.rename(columns=new_names_cols, inplace=True)\n",
    "reports2224.rename(columns=new_names_cols, inplace=True)\n",
    "\n",
    "all_reports = pd.concat([reports2224, reportsHist], axis=0)\n",
    "\n",
    "all_reports['fecha'] = pd.to_datetime(all_reports['fecha'])\n",
    "all_reports['year'] = all_reports['fecha'].dt.year\n",
    "all_reports['month_name'] = all_reports['fecha'].dt.month_name()\n",
    "all_reports['month'] = all_reports['fecha'].dt.month\n",
    "\n",
    "all_reports = all_reports.dropna(subset=['alcaldia', 'colonia'])"
   ]
  },
  {
   "cell_type": "markdown",
   "id": "2a002655",
   "metadata": {},
   "source": [
    "* OUTPUT"
   ]
  },
  {
   "cell_type": "code",
   "execution_count": 275,
   "id": "ff9adf55",
   "metadata": {},
   "outputs": [],
   "source": [
    "normalizer(all_reports, \"colonia\", \"lower\")\n",
    "normalizer(all_reports, \"alcaldia\", \"title\")"
   ]
  },
  {
   "cell_type": "code",
   "execution_count": 276,
   "id": "d448bafe",
   "metadata": {},
   "outputs": [],
   "source": [
    "all_reportsDropped = all_reports.drop(columns=[\"hora_reporte\"])"
   ]
  },
  {
   "cell_type": "code",
   "execution_count": 277,
   "id": "a56ec9c7",
   "metadata": {},
   "outputs": [],
   "source": [
    "all_reportsDropped.to_csv(\"../data/reportsAllHist.csv\", index=False)"
   ]
  },
  {
   "cell_type": "markdown",
   "id": "0140f396",
   "metadata": {},
   "source": [
    "#### SHF Index"
   ]
  },
  {
   "cell_type": "code",
   "execution_count": 278,
   "id": "7dd42552",
   "metadata": {},
   "outputs": [],
   "source": [
    "indexSHF['Indice'] = indexSHF['Indice'].replace(r\",\", \".\",regex=True)\n",
    "indexSHF['Indice'] = indexSHF['Indice'].astype(float)\n",
    "\n",
    "dict_trimestres = {1:'03',\n",
    "                   2:'06',\n",
    "                   3:'09',\n",
    "                   4:'12'}\n",
    "\n",
    "\n",
    "indexSHF['fecha'] = indexSHF.apply(lambda x : str(x['Año']) + '-' + dict_trimestres[int(x['Trimestre'])], axis = 1)\n",
    "indexSHF['fecha'] = pd.to_datetime(indexSHF['fecha'])"
   ]
  },
  {
   "cell_type": "markdown",
   "id": "bf825116",
   "metadata": {},
   "source": [
    "* OUTPUT"
   ]
  },
  {
   "cell_type": "code",
   "execution_count": 279,
   "id": "9b0beec5",
   "metadata": {},
   "outputs": [],
   "source": [
    "normalizer(indexSHF, \"Municipio\", \"title\")"
   ]
  },
  {
   "cell_type": "code",
   "execution_count": 280,
   "id": "11c9b565",
   "metadata": {},
   "outputs": [],
   "source": [
    "indexSHF = indexSHF.drop(columns=[\"Consecutivo\"])"
   ]
  },
  {
   "cell_type": "code",
   "execution_count": 281,
   "id": "af867c52",
   "metadata": {},
   "outputs": [],
   "source": [
    "indexSHF.to_csv(\"../data/indexSHF.csv\", index=False)"
   ]
  },
  {
   "cell_type": "markdown",
   "id": "beb2b110",
   "metadata": {},
   "source": [
    "## Preparando los datos"
   ]
  },
  {
   "cell_type": "markdown",
   "id": "46efddfa",
   "metadata": {},
   "source": [
    "* Water Consumption 2019"
   ]
  },
  {
   "cell_type": "code",
   "execution_count": 282,
   "id": "4ef637bf",
   "metadata": {},
   "outputs": [],
   "source": [
    "# Escribe particionado (rápido y barato de leer)\n",
    "table = pa.Table.from_pandas(watCons19, preserve_index=False)\n",
    "ds.write_dataset(\n",
    "    table,\n",
    "    base_dir=\"../parquets/consumo19\",       # genera carpetas\n",
    "    format=\"parquet\",\n",
    "    #partitioning=[\"fecha_referencia\",\"alcaldia\"], # crea year=2024/alcaldia=Benito Juarez/...\n",
    "    partitioning_flavor=\"hive\",\n",
    "    existing_data_behavior=\"overwrite_or_ignore\",\n",
    ")"
   ]
  },
  {
   "cell_type": "markdown",
   "id": "16c9333f",
   "metadata": {},
   "source": [
    "* Factibilidad"
   ]
  },
  {
   "cell_type": "code",
   "execution_count": 295,
   "id": "fb461832",
   "metadata": {},
   "outputs": [],
   "source": [
    "factibilidadNorm['geometry'] = factibilidadNorm['geometry'].astype(str)"
   ]
  },
  {
   "cell_type": "code",
   "execution_count": 296,
   "id": "d163e5a9",
   "metadata": {},
   "outputs": [],
   "source": [
    "# Escribe particionado (rápido y barato de leer)\n",
    "table = pa.Table.from_pandas(factibilidadNorm, preserve_index=False)\n",
    "ds.write_dataset(\n",
    "    table,\n",
    "    base_dir=\"../parquets/factibilidad\",       # genera carpetas\n",
    "    format=\"parquet\",\n",
    "    #partitioning=[\"alcaldia\",\"fact_hidr\"], # crea year=2024/alcaldia=Benito Juarez/...\n",
    "    partitioning_flavor=\"hive\",\n",
    "    existing_data_behavior=\"overwrite_or_ignore\",\n",
    ")"
   ]
  },
  {
   "cell_type": "markdown",
   "id": "45a6edab",
   "metadata": {},
   "source": [
    "* Consumo Habitacional"
   ]
  },
  {
   "cell_type": "code",
   "execution_count": 285,
   "id": "120ef81a",
   "metadata": {},
   "outputs": [],
   "source": [
    "habCons['geometry'] = habCons['geometry'].astype(str)"
   ]
  },
  {
   "cell_type": "code",
   "execution_count": 286,
   "id": "415b3a53",
   "metadata": {},
   "outputs": [],
   "source": [
    "# Escribe particionado (rápido y barato de leer)\n",
    "table = pa.Table.from_pandas(habCons, preserve_index=False)\n",
    "ds.write_dataset(\n",
    "    table,\n",
    "    base_dir=\"../parquets/habCons\",       # genera carpetas\n",
    "    format=\"parquet\",\n",
    "    #partitioning=[\"alcaldia\"], # crea year=2024/alcaldia=Benito Juarez/...\n",
    "    partitioning_flavor=\"hive\",\n",
    "    existing_data_behavior=\"overwrite_or_ignore\",\n",
    ")"
   ]
  },
  {
   "cell_type": "markdown",
   "id": "fd8486e1",
   "metadata": {},
   "source": [
    "* Probabilidad de Escasez"
   ]
  },
  {
   "cell_type": "code",
   "execution_count": 287,
   "id": "71482ba2",
   "metadata": {},
   "outputs": [],
   "source": [
    "mxcDroughtDropped['geometry'] = mxcDroughtDropped['geometry'].astype(str)"
   ]
  },
  {
   "cell_type": "code",
   "execution_count": 288,
   "id": "55c98801",
   "metadata": {},
   "outputs": [],
   "source": [
    "# Escribe particionado (rápido y barato de leer)\n",
    "table = pa.Table.from_pandas(mxcDroughtDropped, preserve_index=False)\n",
    "ds.write_dataset(\n",
    "    table,\n",
    "    base_dir=\"../parquets/drought\",       # genera carpetas\n",
    "    format=\"parquet\",\n",
    "    #partitioning=[\"YEAR\"], # crea year=2024/alcaldia=Benito Juarez/...\n",
    "    partitioning_flavor=\"hive\",\n",
    "    existing_data_behavior=\"overwrite_or_ignore\",\n",
    ")"
   ]
  },
  {
   "cell_type": "markdown",
   "id": "36a25bd9",
   "metadata": {},
   "source": [
    "* Reportes de Agua"
   ]
  },
  {
   "cell_type": "code",
   "execution_count": 289,
   "id": "c76867b4",
   "metadata": {},
   "outputs": [],
   "source": [
    "# Escribe particionado (rápido y barato de leer)\n",
    "table = pa.Table.from_pandas(all_reportsDropped, preserve_index=False)\n",
    "ds.write_dataset(\n",
    "    table,\n",
    "    base_dir=\"../parquets/reportes\",       # genera carpetas\n",
    "    format=\"parquet\",\n",
    "    #partitioning=[\"reporte\"], # crea year=2024/alcaldia=Benito Juarez/...\n",
    "    partitioning_flavor=\"hive\",\n",
    "    existing_data_behavior=\"overwrite_or_ignore\",\n",
    ")"
   ]
  },
  {
   "cell_type": "markdown",
   "id": "4cdb52d2",
   "metadata": {},
   "source": [
    "* Hogares Densidad"
   ]
  },
  {
   "cell_type": "code",
   "execution_count": 290,
   "id": "146349bc",
   "metadata": {},
   "outputs": [],
   "source": [
    "hogares_with_grado['geometry'] = hogares_with_grado['geometry'].astype(str)"
   ]
  },
  {
   "cell_type": "code",
   "execution_count": 291,
   "id": "5ff4bee2",
   "metadata": {},
   "outputs": [],
   "source": [
    "# Escribe particionado (rápido y barato de leer)\n",
    "table = pa.Table.from_pandas(hogares_with_grado, preserve_index=False)\n",
    "ds.write_dataset(\n",
    "    table,\n",
    "    base_dir=\"../parquets/densidadHogares\",       # genera carpetas\n",
    "    format=\"parquet\",\n",
    "    #partitioning=[\"alcaldia\"], # crea year=2024/alcaldia=Benito Juarez/...\n",
    "    partitioning_flavor=\"hive\",\n",
    "    existing_data_behavior=\"overwrite_or_ignore\",\n",
    ")"
   ]
  },
  {
   "cell_type": "markdown",
   "id": "bff479cb",
   "metadata": {},
   "source": [
    "* Index SHF"
   ]
  },
  {
   "cell_type": "code",
   "execution_count": 292,
   "id": "0303bd97",
   "metadata": {},
   "outputs": [],
   "source": [
    "# Escribe particionado (rápido y barato de leer)\n",
    "table = pa.Table.from_pandas(indexSHF, preserve_index=False)\n",
    "ds.write_dataset(\n",
    "    table,\n",
    "    base_dir=\"../parquets/indexSHF\",       # genera carpetas\n",
    "    format=\"parquet\",\n",
    "    #partitioning=[\"Año\"], # crea year=2024/alcaldia=Benito Juarez/...\n",
    "    partitioning_flavor=\"hive\",\n",
    "    existing_data_behavior=\"overwrite_or_ignore\",\n",
    ")"
   ]
  }
 ],
 "metadata": {
  "kernelspec": {
   "display_name": "Kernelsote",
   "language": "python",
   "name": "python3"
  },
  "language_info": {
   "codemirror_mode": {
    "name": "ipython",
    "version": 3
   },
   "file_extension": ".py",
   "mimetype": "text/x-python",
   "name": "python",
   "nbconvert_exporter": "python",
   "pygments_lexer": "ipython3",
   "version": "3.11.0"
  }
 },
 "nbformat": 4,
 "nbformat_minor": 5
}
