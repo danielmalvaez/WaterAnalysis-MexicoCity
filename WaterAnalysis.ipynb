{
 "cells": [
  {
   "cell_type": "markdown",
   "id": "5a9fefc2",
   "metadata": {},
   "source": [
    "# Escasez de Agua y el Impacto en el Valor de las Propiedades en Ciudad de México\n",
    "\n",
    "* Author : Axel Daniel Malváez Flores\n",
    "* Date : 2025-06-26\n",
    "* Motivación : Análisis que tiene como principal objetivo estudiar la relación entre la escasez de agua en Ciudad de México y el impacto en el valor de las propiedades inmobiliarias. La escasez de agua ya no es solo un problema ambiental, sino un riesgo financiero y urbano tangible. El real estate, como sector clave en el desarrollo económico y el uso del suelo, debe adaptarse a este nuevo paradigma, integrando métricas de sostenibilidad hídrica en sus decisiones de inversión, construcción y planeación."
   ]
  },
  {
   "cell_type": "markdown",
   "id": "49f35e67",
   "metadata": {},
   "source": [
    "## Story Telling\n",
    "\n",
    "* Motivación principal : Uso personal, para mis padres y para mis amigos que desean comprar/rentar una propiedad en la Ciudad de México, y que desean entender cómo la escasez de agua puede afectar el valor de las propiedades y sus decisiones de compra o alquiler.\n",
    "* Público objetivo : Personas interesadas en el sector inmobiliario, compradores y arrendatarios, desarrolladores inmobiliarios, urbanistas, y cualquier persona interesada en entender el impacto de la escasez de agua en el mercado inmobiliario de la Ciudad de México."
   ]
  },
  {
   "cell_type": "markdown",
   "id": "7a40638d",
   "metadata": {},
   "source": [
    "### **Introducción**   \n",
    "\n",
    "La Ciudad de México, es una metrópoli que se encuentra en un constante crecimiento poblacional y de urbanización. Sin embargo este crecimiento ha traído consigo desafíos críticos como lo es la escasez de agua. Este es un problema que afecta la calidad de vida de los habitantes, no obstante el impacto puede verse más alla de lo social y ambiental, pues también puede verse reflejado en el valor de las propiedades inmobiliarias. A medida que la disponibilidad de agua se convierte en un factor determinante para la habitabilidad y sostenibilidad de las zonas urbanas, es crucial entender cómo esta escasez influye en el mercado inmobiliario. A medida que la disponibilidad de agua disminuye, los desarrolladores y los compradores deben reconsiderar el valor de las propiedades, llevando a una reevaluación del mercado inmobiliario en las áreas afectadas. \n",
    "\n",
    "Este análisis busca explorar esta relación, proporcionando una visión integral de cómo la crisis hídrica afecta no solo a los residentes, sino también a los inversores y desarrolladores en el sector inmobiliario.\n",
    "\n",
    "### **Objetivos**   \n",
    "* Otorgar un enfoque práctico para que principalmente compradores, inversionistas, arreendatarios y desarrolladores puedan tomar decisiones informadas sobre la compra, alquiler y desarrollo de propiedades en áreas afectadas por la escasez de agua.\n",
    "* Analizar la relación entre la escasez de agua y el valor de las propiedades en Ciudad de México.\n",
    "* Evaluar cómo la crisis hídrica afecta las decisiones de inversión y desarrollo inmobiliario.\n",
    "* Proporcionar recomendaciones para integrar la sostenibilidad hídrica en las estrategias de desarrollo urbano.\n",
    "* Identificar áreas de oportunidad para el sector inmobiliario en el contexto de la escasez de agua.\n",
    "\n",
    "\n",
    "### **Metodología** \n",
    "  \n",
    "Para llevar a cabo este análisis, se utilizarán diversas fuentes de datos, incluyendo estadísticas sobre el suministro de agua, precios de propiedades, y estudios de caso sobre desarrollos inmobiliarios en áreas afectadas por la escasez de agua. Se tomaran recursos de entrevistas y reportes de expertos en el sector inmobiliario y sostenibilidad, así como encuestas a residentes para obtener una perspectiva más amplia sobre el impacto de la escasez de agua en sus decisiones de compra y alquiler. Utilizaré modelos estadísticos para correlacionar la disponibilidad de agua con los precios de las propiedades en diferentes zonas de la ciudad, y se realizarán análisis geoespaciales para identificar patrones y tendencias en el mercado inmobiliario en relación con la crisis hídrica.\n",
    "\n",
    "### **Resultados Esperados**   \n",
    "* Identificar patrones claros entre la escasez de agua y la disminución del valor de las propiedades en áreas específicas de Ciudad de México.\n",
    "* Identificar áreas de la ciudad donde la escasez de agua ha llevado a una disminución significativa en los precios de las propiedades derivado de la crisis hídrica.\n",
    "* Proporcionar recomendaciones prácticas para desarrolladores y compradores sobre cómo la sostenibilidad hídrica puede influir en las decisiones de inversión y desarrollo inmobiliario.\n",
    "* Contribuir a una mayor conciencia sobre la importancia de la sostenibilidad hídrica en el sector inmobiliario y su impacto en el valor de las propiedades en Ciudad de México.\n",
    "\n",
    "### **Scientific Methodology**\n",
    "\n",
    "* ✅ **Observación**\n",
    "    * He notado que la escasez de agua en Ciudad de México ha aumentado en los últimos años, afectando tanto a los residentes, como a los desarrollos inmobiliarios.\n",
    "* ✅ **Pregunta**\n",
    "    * ¿La escasez del agua afecta las decisiones de compra y alquiler de propiedades en Ciudad de México?\n",
    "    * ¿Cómo influye la disponibilidad de agua en el valor de las propiedades inmobiliarias en áreas afectadas por la crisis hídrica?\n",
    "    * ¿Qué opciones tienen los desarrolladores y compradores para mitigar este impacto? \n",
    "    * ¿Pueden los desarrolladores mantener o incluso aumentar el valor de sus proyectos con opciones sustentables?\n",
    "\n",
    "* ✅ **Hipótesis**\n",
    "    * Encontrar patrones entre la escasez del agua, el valor de las propiedades en áreas afectadas por la crisis hídrica, densidad poblacional, y las decisiones de compra y alquiler de propiedades.\n",
    "    * La escasez de agua afecta negativamente el valor de las propiedades en áreas específicas de Ciudad de México, llevando a una disminución en los precios de las propiedades y afectando las decisiones de compra y alquiler de los residentes.\n",
    "    * La escasez de agua disminuye el valor de las propiedades en áreas afectadas, y los desarrolladores que integran soluciones sostenibles hídricas pueden mantener o incluso aumentar el valor de sus proyectos.\n",
    "\n",
    "* ❓ **Experimentación**\n",
    "    * Se recopilarán datos sobre el suministro de agua, precios de propiedades, y se revisaran estudios de caso sobre desarrollos inmobiliarios en áreas afectadas por la escasez de agua para analizar la relación entre estos factores.\n",
    "\n",
    "* ❌**Análisis de Datos**\n",
    "    * Se utilizarán modelos estadísticos y análisis geoespaciales para correlacionar la disponibilidad de agua con los precios de las propiedades en diferentes zonas de la ciudad.\n",
    "\n",
    "* ❌**Conclusión**\n",
    "    * Se espera que los resultados muestren una correlación negativa entre la escasez de agua y el valor de las propiedades en áreas específicas de Ciudad de México, y que los desarrolladores que implementan soluciones sostenibles hídricas puedan mitigar este impacto, contribuyendo a un mercado inmobiliario más resiliente y sostenible.\n",
    "\n",
    "* ❌**Revisión por Pares**\n",
    "    * Los hallazgos serán revisados por expertos en el sector inmobiliario y sostenibilidad para validar las conclusiones y recomendaciones.\n",
    "\n",
    "* ❌**Publicación**\n",
    "    * Los resultados se publicarán en un informe detallado y se compartirán con la comunidad inmobiliaria, urbanistas, y el público en general para fomentar una mayor conciencia sobre la importancia de la sostenibilidad hídrica en el sector inmobiliario.\n",
    "\n",
    "* ❌**Seguimiento**\n",
    "    * Se propondrá un seguimiento a largo plazo para evaluar el impacto de las recomendaciones implementadas y la evolución del mercado inmobiliario en relación con la escasez de agua.\n",
    "\n",
    "\n",
    "\n",
    "### **Referencias**\n",
    "\n",
    "* Comisión Nacional del Agua (CONAGUA). (2023). Informe sobre la disponibilidad de agua en Ciudad de México.\n",
    "* Instituto Nacional de Estadística y Geografía (INEGI). (2023). Estadísticas del mercado inmobiliario en Ciudad de México.\n",
    "* Secretaría de Desarrollo Urbano y Vivienda (SEDUVI). (2023). Plan de Desarrollo Urbano de Ciudad de México.\n",
    "* Expertos en sostenibilidad hídrica y desarrollo urbano, entrevistas realizadas en 2024.\n",
    "* Estudios de caso sobre desarrollos inmobiliarios sostenibles en áreas afectadas por la escasez de agua, incluyendo análisis de precios y estrategias implementadas.\n",
    "* Encuestas a residentes sobre la percepción del valor de las propiedades en relación con la disponibilidad de agua, realizadas en 2024.\n",
    "* Artículos académicos y reportes sobre el impacto de la escasez de agua en el mercado inmobiliario, incluyendo análisis de tendencias y patrones en diferentes ciudades del mundo.\n",
    "* Informes de organizaciones no gubernamentales y grupos de investigación sobre la crisis hídrica en Ciudad de México y su impacto en las comunidades y el desarrollo urbano."
   ]
  },
  {
   "cell_type": "markdown",
   "id": "ad52bd82",
   "metadata": {},
   "source": [
    "## Notas\n",
    "\n",
    "Real Estate : \n",
    "* Dinámica de compraventa (alta rotación vs. estancamiento)\n",
    "* Tiempos promedio de venta"
   ]
  },
  {
   "cell_type": "markdown",
   "id": "3433f208",
   "metadata": {},
   "source": [
    "## Workflow\n",
    "\n",
    "* Exploratory Data Analysis (EDA)\n",
    "* Data Cleaning\n",
    "* Data Visualization\n",
    "* Statistical Analysis\n",
    "* Machine Learning Models\n",
    "    * Predict the probability of drought in Mexico City counties\n",
    "    * Model Evaluation\n",
    "* Conclusion\n",
    "* Recommendations\n",
    "* References"
   ]
  },
  {
   "cell_type": "markdown",
   "id": "72ccfd99",
   "metadata": {},
   "source": [
    "## Libraries"
   ]
  },
  {
   "cell_type": "code",
   "execution_count": null,
   "id": "06565e0c",
   "metadata": {},
   "outputs": [],
   "source": [
    "import pandas as pd\n",
    "import numpy as np\n",
    "import matplotlib.pyplot as plt\n",
    "import seaborn as sns\n",
    "\n",
    "import json\n",
    "import geopandas as gpd\n",
    "\n",
    "# Treemap visualization\n",
    "import squarify\n",
    "\n",
    "# Combinations and filtering\n",
    "from itertools import combinations\n",
    "\n",
    "import warnings\n",
    "warnings.filterwarnings('ignore')"
   ]
  },
  {
   "cell_type": "markdown",
   "id": "401b4aee",
   "metadata": {},
   "source": [
    "## Data"
   ]
  },
  {
   "cell_type": "markdown",
   "id": "21a5ae2f",
   "metadata": {},
   "source": [
    "### Water"
   ]
  },
  {
   "cell_type": "code",
   "execution_count": null,
   "id": "78d21848",
   "metadata": {},
   "outputs": [],
   "source": [
    "# Daata consumption during the whole 2019 by neighborhood\n",
    "data_consumo_19 = pd.read_csv('data/water/consumo/consumo_agua_historico_2019.csv')\n",
    "data_consumo_19.drop_duplicates(inplace=True)\n",
    "\n",
    "# Municipalities with drought data and higher/lower probability of drought\n",
    "data_drought = pd.read_excel('data/water/sequia/Municipios_con_ sequia.xlsx', sheet_name='MONITOR - SEMAFORO - USO EFIC')\n",
    "cleaned_cols = data_drought.columns.to_series().where(~data_drought.columns.str.contains('^Unnamed'), '')\n",
    "data_drought.columns = [x + '/' + y if x != '' else y for x, y in zip(cleaned_cols, data_drought.iloc[0].astype(str))]\n",
    "data_drought = data_drought.iloc[1:].reset_index().iloc[:,1:]\n",
    "\n",
    "# Water-related reports for 2022-2024\n",
    "data_water_reps_22_24 = pd.read_csv('data/water/reportes/reportes_agua_2024_01.csv')#, parse_dates=['fecha_referencia'])\n",
    "data_water_reps_hist = pd.read_csv('data/water/reportes/reportes_agua_hist.csv')#, parse_dates=['fecha_referencia'])\n",
    "\n",
    "# Hidric feasibility\n",
    "with open(\"data/water/factibilidad/factibilidad-hdrica.json\", \"r\", encoding=\"utf-8\") as f:\n",
    "    data = json.load(f)\n",
    "data_feasibility = gpd.GeoDataFrame.from_features(data[\"features\"])\n",
    "\n",
    "# Consumption every two months by neighborhood\n",
    "with open('data/water/consumo/consumo-habitacional-promedio-bimestral-de-agua-por-colonia-m3.json', 'r', encoding='utf-8') as f:\n",
    "    data = json.load(f)\n",
    "hab_consoumption = gpd.GeoDataFrame.from_features(data['features'])"
   ]
  },
  {
   "cell_type": "markdown",
   "id": "7e83ebc6",
   "metadata": {},
   "source": [
    "#### Data Dictionary"
   ]
  },
  {
   "cell_type": "code",
   "execution_count": null,
   "id": "cd17de60",
   "metadata": {},
   "outputs": [],
   "source": [
    "data_dict = pd.read_csv('data/water/consumo/diccionario_consumo_hab_prom_agua_col.csv', encoding='iso-8859-1')\n",
    "data_dict = data_dict[['Etiqueta del campo o variable', 'Descripció de Campo']]\n",
    "data_dict\n",
    "data_dict.loc[10]['Descripció de Campo']"
   ]
  },
  {
   "cell_type": "markdown",
   "id": "9f8d6e78",
   "metadata": {},
   "source": [
    "### Property Prices & Population Statistics"
   ]
  },
  {
   "cell_type": "code",
   "execution_count": null,
   "id": "02b6be47",
   "metadata": {},
   "outputs": [],
   "source": [
    "data_concentracion = gpd.read_file(\"data/property-population/alta_concentracion/zonas_vivienda.shp\")\n",
    "data_idx_SHF = pd.read_csv('data/property-population/SHF/indice_SHF.csv', encoding='iso-8859-1', delimiter=';')\n",
    "data_leed = pd.read_excel('data/property-population/Leed/PublicLEEDProjectDirectory.xlsx')\n",
    "data_tasa_crecimiento_alcaldia = pd.read_csv('data/property-population/CrecimientoPoblacional/poblacion_total_tasa_crecimiento_alcaldia_1.2.csv', encoding='utf-8')\n",
    "data_zonas_valor = gpd.read_file(\"data/property-population/vus_promedio/valores_unitarios.shp\")\n",
    "data_hogares_col = gpd.read_file(\"data/property-population/Hogares por colonia/hogares_colonia.shp\")"
   ]
  },
  {
   "cell_type": "markdown",
   "id": "8d1c5c7b",
   "metadata": {},
   "source": [
    "#### Data Dictionary"
   ]
  },
  {
   "cell_type": "markdown",
   "id": "20df9854",
   "metadata": {},
   "source": [
    "## Exploratory Data Analysis (EDA)"
   ]
  },
  {
   "cell_type": "markdown",
   "id": "1a259f2b",
   "metadata": {},
   "source": [
    "### Consumo de agua en Ciudad de México 2019\n",
    "\n",
    "**Unidades**   \n",
    "Medidas expresadas en  m³ de manera bimestral\n",
    "\n",
    "**Descripción**\n",
    "Para comenzar a desarrollar una historia podemos comenzar con el consumo de agua en Ciudad de México en 2019. Este es un punto de partida para entender la situación del agua en la ciudad y cómo ha evolucionado a lo largo del tiempo, sin necesidad de entrar en detalles técnicos complejos aún. Con estos datos podemos entender en el 2019 : \n",
    "\n",
    "* Cuáles eran las colonias con mayor consumo de agua, y cómo esto puede afectar el valor de las propiedades en esas áreas. \n",
    "* Qué tan desarrolladas son esas colonias y cómo influye en el consumo de agua.\n",
    "* Qué tipo de inmuebles predominan en esas colonias y cómo esto puede relacionarse con el consumo de agua.\n",
    "\n",
    "**Argumento**\n",
    "* Refleja la presión real sobre la disponibilidad del recurso.\n",
    "* La escasez hídrica ocurre por la suma de todos los usos: doméstico, comercial, industrial, institucional, etc.\n",
    "* Algunas zonas con bajo consumo doméstico pueden estar tensionadas por altos consumos industriales y por lo tanto afectar el valor de las propiedades en esas áreas o si no, entender la afectación a futuro."
   ]
  },
  {
   "cell_type": "markdown",
   "id": "a5df7fdd",
   "metadata": {},
   "source": [
    "#### Preguntas"
   ]
  },
  {
   "cell_type": "markdown",
   "id": "4da04b21",
   "metadata": {},
   "source": [
    "\n",
    "**Principal**:\n",
    "* ¿Cuáles son las colonias con mayor y menor consumo de agua? - Usar total agregando por colonia y alcaldía\n",
    "    * ¿Cuál es el la proporción del índice de desarrollo en dichas colonias?\n",
    "    * ¿Cuál es el la proporción de la fuente del consumo (i.e. doméstico, no doméstico, mixto)?\n",
    "    * ¿Hay colonias con un consumo desproporcionado en relación con el número de inmuebles? ¿Cuáles? - Usar total agregando por colonia y alcaldía\n",
    "\n",
    "**Secundarias**:\n",
    "* ¿Qué alcaldías tienen el mayor y menor consumo de agua? - Usar total agregando por colonia y alcaldía\n",
    "    * ¿Cuál es el la proporción del índice de desarrollo en dichas alcaldías?\n",
    "    * ¿Cuál es el la proporción de la fuente del consumo (i.e. doméstico, no doméstico, mixto)?\n",
    "    * ¿Hay alcaldías con un consumo desproporcionado en relación con el número de inmuebles? - Usar total agregando por colonia y alcaldía\n",
    "\n",
    "**External Data Cross-Referencing**:    \n",
    "* ¿Hay colonias con un consumo desproporcionado en relación a su población?\n",
    "* ¿Cómo se relaciona el consumo de agua con el valor de las propiedades en esas colonias"
   ]
  },
  {
   "cell_type": "markdown",
   "id": "16f61b79",
   "metadata": {},
   "source": [
    "#### Insights"
   ]
  },
  {
   "cell_type": "markdown",
   "id": "dfd8346a",
   "metadata": {},
   "source": [
    "**Puntuales**    \n",
    "* Colonias con mayor y menor consumo de agua\n",
    "    * Colonias con mayor consumo de agua y menor índice de desarrollo - Alto riesgo de escasez de agua\n",
    "    * Colonias con mayor consumo de agua y mayor índice de desarrollo - Alto riesgo de escasez de agua\n",
    "    * Colonias con menor consumo de agua y menor índice de desarrollo - Bajo riesgo de escasez de agua\n",
    "    * Colonias con menor consumo de agua y mayor índice de desarrollo - Bajo riesgo de escasez de agua\n",
    "\n",
    "\n",
    "* Alcaldías con mayor y menor consumo de agua\n",
    "    * Alcaldías con mayor consumo de agua y menor índice de desarrollo - Alto riesgo de escasez de agua\n",
    "    * Alcaldías con mayor consumo de agua y mayor índice de desarrollo - Alto riesgo de escasez de agua\n",
    "    * Alcaldías con menor consumo de agua y menor índice de desarrollo - Bajo riesgo de escasez de agua\n",
    "    * Alcaldías con menor consumo de agua y mayor índice de desarrollo - Medio riesgo de escasez de agua\n",
    "\n",
    "* Principal fuente de consumo de agua (doméstico, no doméstico, mixto)\n",
    "* Colonias con un consumo desproporcionado en relación con el número de inmuebles - Posible riesgo de escasez de agua\n",
    "* Alcaldías con un consumo desproporcionado en relación con el número de inmuebles - Posible riesgo de escasez de agua\n",
    "\n",
    "**Accionables**    \n",
    "* Alcaldías/Colonias con mayor consumo y con un índice de desarrollo bajo (posible riesgo de escasez de agua)\n",
    "* Colonias con un consumo desproporcionado en relación con el número de inmuebles (posible riesgo de escasez de agua)"
   ]
  },
  {
   "cell_type": "markdown",
   "id": "f3590aad",
   "metadata": {},
   "source": [
    "#### Data Processing"
   ]
  },
  {
   "cell_type": "markdown",
   "id": "35c28eef",
   "metadata": {},
   "source": [
    "* Cleaning, feature engineering, and formatting"
   ]
  },
  {
   "cell_type": "code",
   "execution_count": null,
   "id": "3d7ca316",
   "metadata": {},
   "outputs": [],
   "source": [
    "data_consumo_19[['fecha_referencia', 'anio', 'bimestre', 'indice_des', 'colonia', 'alcaldia', 'latitud', 'longitud']].drop_duplicates(inplace=True)"
   ]
  },
  {
   "cell_type": "code",
   "execution_count": null,
   "id": "7c8db7f0",
   "metadata": {},
   "outputs": [],
   "source": [
    "# Date \n",
    "data_consumo_19['fecha_referencia'] = pd.to_datetime(data_consumo_19['fecha_referencia'], format='ISO8601')\n",
    "\n",
    "# Adding derived columns for total consumption\n",
    "data_consumo_19['inmuebles_domesticos'] = data_consumo_19['consumo_total_dom'] / data_consumo_19['consumo_prom_dom']\n",
    "data_consumo_19['inmuebles_no_domesticos'] = data_consumo_19['consumo_total_no_dom'] / data_consumo_19['consumo_prom_no_dom']\n",
    "data_consumo_19['inmuebles_mixtos'] = data_consumo_19['consumo_total_mixto'] / data_consumo_19['consumo_prom_mixto']\n",
    "\n",
    "# replace NaN values with 0 in the derived column\n",
    "data_consumo_19['inmuebles_domesticos'].fillna(0, inplace=True)\n",
    "data_consumo_19['inmuebles_no_domesticos'].fillna(0, inplace=True)\n",
    "data_consumo_19['inmuebles_mixtos'].fillna(0, inplace=True)\n",
    "\n",
    "# Data structure and column ordering\n",
    "data_consumo_19 = data_consumo_19[['fecha_referencia', 'consumo_total', 'inmuebles_domesticos', 'consumo_total_dom', 'consumo_prom_dom', 'inmuebles_no_domesticos', 'consumo_total_no_dom', 'consumo_prom_no_dom', 'inmuebles_mixtos', 'consumo_total_mixto', 'consumo_prom_mixto', 'indice_des', 'colonia', 'alcaldia']]\n",
    "\n",
    "# Adding total consumption and total number of properties\n",
    "data_consumo_19['total_inmuebles'] = data_consumo_19['inmuebles_domesticos'] + data_consumo_19['inmuebles_no_domesticos'] + data_consumo_19['inmuebles_mixtos']\n",
    "\n",
    "\n",
    "# Important : Filter the data to only include the last date of 2019\n",
    "print(\"Dates in the dataset:\", data_consumo_19['fecha_referencia'].unique())\n",
    "data_consumo_19_f = data_consumo_19[data_consumo_19['fecha_referencia'] == '2019-06-30']\n",
    "\n",
    "data_consumo_19_f.head()"
   ]
  },
  {
   "cell_type": "markdown",
   "id": "326aa93c",
   "metadata": {},
   "source": [
    "#### First Aggregation"
   ]
  },
  {
   "cell_type": "code",
   "execution_count": null,
   "id": "b78cb4e0",
   "metadata": {},
   "outputs": [],
   "source": [
    "t = data_consumo_19_f[['indice_des', 'colonia',\t'alcaldia', 'fecha_referencia']]\n",
    "t[t.duplicated()]"
   ]
  },
  {
   "cell_type": "code",
   "execution_count": null,
   "id": "392b0212",
   "metadata": {},
   "outputs": [],
   "source": [
    "# Neighborhood aggregation (since we have duplicated neighborhoods, we can aggregate the data by summing the total consumption)\n",
    "data_consumo_19_agg = data_consumo_19_f.groupby(['colonia', 'alcaldia']).agg({\n",
    "    'consumo_total': 'sum',\n",
    "    'inmuebles_domesticos': 'sum',\n",
    "    'consumo_total_dom': 'sum',\n",
    "    #'consumo_prom_dom': 'mean',\n",
    "    'inmuebles_no_domesticos': 'sum',\n",
    "    'consumo_total_no_dom': 'sum',\n",
    "    #'consumo_prom_no_dom': 'mean',\n",
    "    'inmuebles_mixtos': 'sum',\n",
    "    'consumo_total_mixto': 'sum',\n",
    "    'total_inmuebles': 'sum',\n",
    "    #'indice_des': 'mean'\n",
    "}).reset_index()\n",
    "\n",
    "\n",
    "# We filter out rows where all consumption values are zero\n",
    "data_consumo_19_agg = data_consumo_19_agg[~(data_consumo_19_agg.iloc[:, 2:] == 0).all(axis=1)]\n",
    "\n",
    "# insert a pivot and create new columns based on indice_des column using the values\n",
    "share_idx_des = data_consumo_19_f.pivot_table(\n",
    "    index=['colonia', 'alcaldia'],\n",
    "    columns='indice_des',\n",
    "    values='total_inmuebles',\n",
    "    aggfunc='sum'\n",
    ").reset_index()\n",
    "\n",
    "all_agg = data_consumo_19_agg.merge(share_idx_des, on=['colonia', 'alcaldia'], how='left')\n",
    "all_agg.fillna(0, inplace=True)\n",
    "\n",
    "all_agg.head()"
   ]
  },
  {
   "cell_type": "markdown",
   "id": "8406310a",
   "metadata": {},
   "source": [
    "**Principal**:\n",
    "\n",
    "* ¿Cuáles son las colonias con mayor y menor consumo de agua? - Usar total agregando por colonia y alcaldía\n",
    "    * Sin filtros\n",
    "    * Filtrando por colonias con inmuebles domésticos representando más del 50% del consumo total de agua\n",
    "    * Filtrando por colonias con inmuebles no domésticos representando más del 50% del consumo total de agua\n",
    "    * Filtrando por colonias con inmuebles domésticos representando más del 50% del número de inmuebles, pero inmuebles no domésticos representando más del 50% del consumo total de agua - Colonias donde comprar una casa puede representar una posible escasez a futuro"
   ]
  },
  {
   "cell_type": "markdown",
   "id": "c5edef8a",
   "metadata": {},
   "source": [
    "* Sin Filtros"
   ]
  },
  {
   "cell_type": "code",
   "execution_count": null,
   "id": "50dbea2e",
   "metadata": {},
   "outputs": [],
   "source": [
    "nf_h = all_agg.sort_values(by='consumo_total', ascending=False)\n",
    "# nf_h.head(20)"
   ]
  },
  {
   "cell_type": "code",
   "execution_count": null,
   "id": "4591b7f1",
   "metadata": {},
   "outputs": [],
   "source": [
    "d = nf_h.head(20).copy()\n",
    "\n",
    "labels = [\n",
    "    f\"{row['colonia']},\\n{row['alcaldia']}\\n({int(row['consumo_total'])} m³)\"\n",
    "    for _, row in d.iterrows()\n",
    "]\n",
    "sizes = d['consumo_total']\n",
    "\n",
    "plt.figure(figsize=(16, 9))\n",
    "squarify.plot(sizes=sizes, label=labels, alpha=0.8, color=sns.color_palette(\"viridis\", len(sizes)), text_kwargs={'fontsize': 11, 'color': 'black'})\n",
    "plt.title(\"Top 20 Colonias con Mayor Consumo Total de Agua (m³)\")\n",
    "plt.axis('off')\n",
    "plt.show()"
   ]
  },
  {
   "cell_type": "code",
   "execution_count": null,
   "id": "2692d4f6",
   "metadata": {},
   "outputs": [],
   "source": [
    "# Make a pie chart using the proportions in the columns ALTO, BAJO, MEDIO and POPULAR\n",
    "plt.figure(figsize=(10, 6))\n",
    "sizes = [d['ALTO'].sum(), d['BAJO'].sum(), d['MEDIO'].sum(), d['POPULAR'].sum()]\n",
    "labels = ['ALTO', 'BAJO', 'MEDIO', 'POPULAR']\n",
    "plt.pie(sizes, labels=labels, autopct='%1.1f%%', startangle=140, colors=sns.color_palette(\"pastel\", len(sizes)))\n",
    "plt.title(\"Proporción del Índice de Desarrollo Urbano (IDU) de las Top 20 colonias más consumidoras\")\n",
    "plt.axis('equal')  # Equal aspect ratio ensures that pie is drawn as a circle.\n",
    "plt.show()"
   ]
  },
  {
   "cell_type": "code",
   "execution_count": null,
   "id": "46201326",
   "metadata": {},
   "outputs": [],
   "source": [
    "# Make a pie chart using the proportions in the columns ALTO, BAJO, MEDIO and POPULAR\n",
    "plt.figure(figsize=(10, 6))\n",
    "sizes = [d['inmuebles_domesticos'].sum(), d['inmuebles_no_domesticos'].sum(), d['inmuebles_mixtos'].sum()]\n",
    "labels = ['inmuebles_domesticos', 'inmuebles_no_domesticos', 'inmuebles_mixtos']\n",
    "plt.pie(sizes, labels=labels, autopct='%1.1f%%', startangle=140, colors=sns.color_palette(\"pastel\", len(sizes)))\n",
    "plt.title(\"Proporción del tipo de inmuebles de las Top 20 colonias más consumidoras\")\n",
    "plt.axis('equal')  # Equal aspect ratio ensures that pie is drawn as a circle.\n",
    "plt.show()"
   ]
  },
  {
   "cell_type": "code",
   "execution_count": null,
   "id": "2afc7cd8",
   "metadata": {},
   "outputs": [],
   "source": [
    "nf_t = all_agg.sort_values(by='consumo_total', ascending=True)"
   ]
  },
  {
   "cell_type": "code",
   "execution_count": null,
   "id": "3a98a03d",
   "metadata": {},
   "outputs": [],
   "source": [
    "d = nf_t.head(20).copy()\n",
    "\n",
    "labels = [\n",
    "    f\"{row['colonia']},\\n{row['alcaldia']}\\n({int(row['consumo_total'])} m³)\"\n",
    "    for _, row in d.iterrows()\n",
    "]\n",
    "sizes = d['consumo_total']\n",
    "\n",
    "plt.figure(figsize=(16, 9))\n",
    "squarify.plot(sizes=sizes, label=labels, alpha=0.8, color=sns.color_palette(\"viridis\", len(sizes)), text_kwargs={'fontsize': 8, 'color': 'black'})\n",
    "plt.title(\"Top 10 Colonias con Menor Consumo Total de Agua (m³)\")\n",
    "plt.axis('off')\n",
    "plt.show()"
   ]
  },
  {
   "cell_type": "code",
   "execution_count": null,
   "id": "79fbf87c",
   "metadata": {},
   "outputs": [],
   "source": [
    "# Make a pie chart using the proportions in the columns ALTO, BAJO, MEDIO and POPULAR\n",
    "plt.figure(figsize=(10, 6))\n",
    "sizes = [d['ALTO'].sum(), d['BAJO'].sum(), d['MEDIO'].sum(), d['POPULAR'].sum()]\n",
    "labels = ['ALTO', 'BAJO', 'MEDIO', 'POPULAR']\n",
    "plt.pie(sizes, labels=labels, autopct='%1.1f%%', startangle=140, colors=sns.color_palette(\"pastel\", len(sizes)))\n",
    "plt.title(\"Proporción de Colonias por Índice de Desarrollo Urbano (IDU) Top 20 menos consumidoras\")\n",
    "plt.axis('equal')  # Equal aspect ratio ensures that pie is drawn as a circle.\n",
    "plt.show()"
   ]
  },
  {
   "cell_type": "code",
   "execution_count": null,
   "id": "f4f9af57",
   "metadata": {},
   "outputs": [],
   "source": [
    "yf_dom_h = all_agg[all_agg.iloc[:,2:]['consumo_total_dom'] / all_agg.iloc[:,2:]['consumo_total'] > 0.5].sort_values(by='consumo_total', ascending=False)"
   ]
  },
  {
   "cell_type": "code",
   "execution_count": null,
   "id": "bbeca116",
   "metadata": {},
   "outputs": [],
   "source": [
    "d = yf_dom_h.head(20).copy()\n",
    "\n",
    "labels = [\n",
    "    f\"{row['colonia']},\\n{row['alcaldia']}\\n({int(row['consumo_total'])} m³)\"\n",
    "    for _, row in d.iterrows()\n",
    "]\n",
    "sizes = d['consumo_total']\n",
    "\n",
    "plt.figure(figsize=(16, 9))\n",
    "squarify.plot(sizes=sizes, label=labels, alpha=0.8, color=sns.color_palette(\"viridis\", len(sizes)), text_kwargs={'fontsize': 11, 'color': 'black'})\n",
    "plt.title(\"Top 10 Colonias con Inmuebles Domésticos que representan más del 50% de Consumo Total de Agua (m³)\")\n",
    "plt.axis('off')\n",
    "plt.show()"
   ]
  },
  {
   "cell_type": "code",
   "execution_count": null,
   "id": "0d4c96b2",
   "metadata": {},
   "outputs": [],
   "source": [
    "# Make a pie chart using the proportions in the columns ALTO, BAJO, MEDIO and POPULAR\n",
    "plt.figure(figsize=(10, 6))\n",
    "sizes = [d['ALTO'].sum(), d['BAJO'].sum(), d['MEDIO'].sum(), d['POPULAR'].sum()]\n",
    "labels = ['ALTO', 'BAJO', 'MEDIO', 'POPULAR']\n",
    "plt.pie(sizes, labels=labels, autopct='%1.1f%%', startangle=140, colors=sns.color_palette(\"pastel\", len(sizes)))\n",
    "plt.title(\"Proporción de Colonias por Índice de Desarrollo Urbano (IDU) Inmuebles Domésticos que representan más del 50% de Consumo Total de Agua (m³)\")\n",
    "plt.axis('equal')  # Equal aspect ratio ensures that pie is drawn as a circle.\n",
    "plt.show()"
   ]
  },
  {
   "cell_type": "markdown",
   "id": "3f027841",
   "metadata": {},
   "source": [
    "* Filtrando por alcaldías con inmuebles no domésticos representando más del 50% del consumo total de agua"
   ]
  },
  {
   "cell_type": "code",
   "execution_count": null,
   "id": "d8eb723f",
   "metadata": {},
   "outputs": [],
   "source": [
    "yf_no_dom_h = all_agg[all_agg.iloc[:,2:]['consumo_total_no_dom'] / all_agg.iloc[:,2:]['consumo_total'] > 0.5].sort_values(by='consumo_total', ascending=False)"
   ]
  },
  {
   "cell_type": "code",
   "execution_count": null,
   "id": "9325f891",
   "metadata": {},
   "outputs": [],
   "source": [
    "d = yf_no_dom_h.head(20).copy()\n",
    "\n",
    "labels = [\n",
    "    f\"{row['colonia']},\\n{row['alcaldia']}\\n({int(row['consumo_total'])} m³)\"\n",
    "    for _, row in d.iterrows()\n",
    "]\n",
    "sizes = d['consumo_total']\n",
    "\n",
    "plt.figure(figsize=(16, 9))\n",
    "squarify.plot(sizes=sizes, label=labels, alpha=0.8, color=sns.color_palette(\"viridis\", len(sizes)), text_kwargs={'fontsize': 11, 'color': 'black'})\n",
    "plt.title(\"Top 10 Colonias con Inmuebles No Domésticos que representan más del 50% de Consumo Total de Agua (m³)\")\n",
    "plt.axis('off')\n",
    "plt.show()"
   ]
  },
  {
   "cell_type": "code",
   "execution_count": null,
   "id": "95ce5cb6",
   "metadata": {},
   "outputs": [],
   "source": [
    "# Make a pie chart using the proportions in the columns ALTO, BAJO, MEDIO and POPULAR\n",
    "plt.figure(figsize=(10, 6))\n",
    "sizes = [d['ALTO'].sum(), d['BAJO'].sum(), d['MEDIO'].sum(), d['POPULAR'].sum()]\n",
    "labels = ['ALTO', 'BAJO', 'MEDIO', 'POPULAR']\n",
    "plt.pie(sizes, labels=labels, autopct='%1.1f%%', startangle=140, colors=sns.color_palette(\"pastel\", len(sizes)))\n",
    "plt.title(\"Proporción de Colonias por Índice de Desarrollo Urbano (IDU) Inmuebles No Domésticos que representan más del 50% de Consumo Total de Agua (m³)\")\n",
    "plt.axis('equal')  # Equal aspect ratio ensures that pie is drawn as a circle.\n",
    "plt.show()"
   ]
  },
  {
   "cell_type": "markdown",
   "id": "a3fbb1e8",
   "metadata": {},
   "source": [
    "* Filtrando por alcaldías con inmuebles domésticos representando más del 50% del número de inmuebles, pero inmuebles no domésticos representando más del 50% del consumo total de agua"
   ]
  },
  {
   "cell_type": "code",
   "execution_count": null,
   "id": "e936dfe5",
   "metadata": {},
   "outputs": [],
   "source": [
    "yf_dom_no_h = all_agg[(all_agg.iloc[:,2:]['inmuebles_domesticos'] / all_agg.iloc[:,2:]['total_inmuebles'] > 0.8) & \n",
    "                    (all_agg.iloc[:,2:]['consumo_total_no_dom'] / all_agg.iloc[:,2:]['consumo_total'] > 0.6)].sort_values(by='consumo_total', ascending=False)"
   ]
  },
  {
   "cell_type": "code",
   "execution_count": null,
   "id": "0a188fce",
   "metadata": {},
   "outputs": [],
   "source": [
    "d = yf_dom_no_h.head(20).copy()\n",
    "\n",
    "labels = [\n",
    "    f\"{row['colonia']},\\n{row['alcaldia']}\\n({int(row['consumo_total'])} m³)\"\n",
    "    for _, row in d.iterrows()\n",
    "]\n",
    "sizes = d['consumo_total']\n",
    "\n",
    "plt.figure(figsize=(16, 9))\n",
    "squarify.plot(sizes=sizes, label=labels, alpha=0.8, color=sns.color_palette(\"viridis\", len(sizes)), text_kwargs={'fontsize': 8, 'color': 'black'})\n",
    "plt.title(\"Top 10 Colonias con más del 50% Inmuebles Dom e Inmuebles No Dom que representan más del 50% de Consumo Total de Agua (m³)\")\n",
    "plt.axis('off')\n",
    "plt.show()"
   ]
  },
  {
   "cell_type": "code",
   "execution_count": null,
   "id": "6af65085",
   "metadata": {},
   "outputs": [],
   "source": [
    "# Make a pie chart using the proportions in the columns ALTO, BAJO, MEDIO and POPULAR\n",
    "plt.figure(figsize=(10, 6))\n",
    "sizes = [d['ALTO'].sum(), d['BAJO'].sum(), d['MEDIO'].sum(), d['POPULAR'].sum()]\n",
    "labels = ['ALTO', 'BAJO', 'MEDIO', 'POPULAR']\n",
    "plt.pie(sizes, labels=labels, autopct='%1.1f%%', startangle=140, colors=sns.color_palette(\"pastel\", len(sizes)))\n",
    "plt.title(\"Proporción de Colonias por Índice de Desarrollo Urbano (IDU) Top 10 con más del 50% Inmuebles Dom e Inmuebles No Dom que representan más del 50% de Consumo Total de Agua (m³)\")\n",
    "plt.axis('equal')  # Equal aspect ratio ensures that pie is drawn as a circle.\n",
    "plt.show()"
   ]
  },
  {
   "cell_type": "markdown",
   "id": "90a4d88b",
   "metadata": {},
   "source": [
    "* Existe una relación entre el índice de desarrollo y el consumo de agua en las colonias, donde las colonias con un índice de desarrollo más bajo tienden a tener un mayor consumo de agua or menor consumo de agua, y viceversa. "
   ]
  },
  {
   "cell_type": "code",
   "execution_count": null,
   "id": "2f09fd50",
   "metadata": {},
   "outputs": [],
   "source": [
    "# Correlación entre tipo de inmueble y consumo doméstico\n",
    "correlation_matrix = all_agg[['ALTO', 'BAJO', 'MEDIO', 'POPULAR', 'consumo_total_dom']].corr()\n",
    "\n",
    "# Heatmap\n",
    "sns.heatmap(correlation_matrix, annot=True, cmap='coolwarm')\n",
    "plt.title(\"Matriz de Correlación\")\n",
    "plt.show()"
   ]
  },
  {
   "cell_type": "code",
   "execution_count": null,
   "id": "c5988b9f",
   "metadata": {},
   "outputs": [],
   "source": [
    "all_agg['mayoria_idx'] = all_agg[['ALTO', 'BAJO', 'MEDIO', 'POPULAR']].idxmax(axis=1)\n",
    "dict1 = {\n",
    "    'ALTO': 'blue',\n",
    "    'MEDIO': 'green',\n",
    "    'BAJO': 'orange',\n",
    "    'POPULAR': 'red'\n",
    "    }\n",
    "\n",
    "all_agg['mayoria_type'] = all_agg[['inmuebles_domesticos', 'inmuebles_no_domesticos', 'inmuebles_mixtos']].idxmax(axis=1)\n",
    "\n",
    "dict2 = {'inmuebles_domesticos' : 'blue',\n",
    "         'inmuebles_no_domesticos' : 'green',\n",
    "         'inmuebles_mixtos' : 'orange'}\n",
    "\n",
    "all_agg['consumo_mayoria'] =  all_agg[['consumo_total_dom', 'consumo_total_no_dom', 'consumo_total_mixto']].idxmax(axis=1)\n",
    "dict3 = {'consumo_total_dom' : 'blue',\n",
    "         'consumo_total_no_dom' : 'green',\n",
    "         'consumo_total_mixto' : 'orange'}"
   ]
  },
  {
   "cell_type": "code",
   "execution_count": null,
   "id": "13f583de",
   "metadata": {},
   "outputs": [],
   "source": [
    "plt.figure(figsize=(10, 6))\n",
    "\n",
    "for category, color in dict1.items():\n",
    "    subset = all_agg[all_agg['mayoria_idx'] == category]\n",
    "    plt.scatter(subset['total_inmuebles'], subset['consumo_total'],\n",
    "                alpha=0.7, c=color, label=f'Índice de Desarrollo {category}')\n",
    "\n",
    "\n",
    "plt.xlabel('Total de Inmuebles')\n",
    "plt.ylabel('Consumo Total de Agua (m³)')\n",
    "plt.title('Relación entre Total de Inmuebles y Consumo Total de Agua por Colonia')\n",
    "plt.grid(True)\n",
    "plt.legend()\n",
    "plt.show()"
   ]
  },
  {
   "cell_type": "code",
   "execution_count": null,
   "id": "e9d5db5c",
   "metadata": {},
   "outputs": [],
   "source": [
    "fig, axes = plt.subplots(1, 4, figsize=(30, 7))  # Increase figsize for better spacing\n",
    "\n",
    "category = 'ALTO'\n",
    "subset_alto = data_consumo_19_f[data_consumo_19_f['indice_des'] == category]\n",
    "axes[0].scatter(subset_alto['total_inmuebles'], subset_alto['consumo_total'], alpha=0.7, label=f'Índice de Desarrollo {category}')\n",
    "axes[0].set_title('Total Inmuebles Desarrollo Alto vs Consumo agua (m³)')\n",
    "axes[0].set_ylim(0, 130000)\n",
    "\n",
    "category = 'MEDIO'\n",
    "subset_medio = data_consumo_19_f[data_consumo_19_f['indice_des'] == category]\n",
    "axes[1].scatter(subset_medio['total_inmuebles'], subset_medio['consumo_total'], alpha=0.7, label=f'Índice de Desarrollo {category}')\n",
    "axes[1].set_title('Total Inmuebles Desarrollo Medio vs Consumo agua (m³)')\n",
    "axes[1].set_ylim(0, 130000)\n",
    "\n",
    "category = 'BAJO'\n",
    "subset_bajo = data_consumo_19_f[data_consumo_19_f['indice_des'] == category]\n",
    "axes[2].scatter(subset_bajo['total_inmuebles'], subset_bajo['consumo_total'], alpha=0.7, label=f'Índice de Desarrollo {category}')\n",
    "axes[2].set_title('Total Inmuebles Desarrollo Bajo vs Consumo agua (m³)')\n",
    "axes[2].set_ylim(0, 130000)\n",
    "\n",
    "category = 'POPULAR'\n",
    "subset_pop = data_consumo_19_f[data_consumo_19_f['indice_des'] == category]\n",
    "axes[3].scatter(subset_pop['total_inmuebles'], subset_pop['consumo_total'], alpha=0.7, label=f'Índice de Desarrollo {category}')\n",
    "axes[3].set_title('Total Inmuebles Desarrollo Popular vs Consumo agua (m³)')\n",
    "axes[3].set_ylim(0, 130000)\n",
    "\n",
    "plt.show()"
   ]
  },
  {
   "cell_type": "code",
   "execution_count": null,
   "id": "ec16c775",
   "metadata": {},
   "outputs": [],
   "source": [
    "print(f\"El consumo promedio de todo tipo de inmuebles con un índice de desarrollo ALTO en CDMX : {data_consumo_19_f[data_consumo_19_f['indice_des'] == 'ALTO']['consumo_total'].sum() / data_consumo_19_f[data_consumo_19_f['indice_des'] == 'ALTO']['total_inmuebles'].sum()}\")\n",
    "print(f\"El consumo promedio de todo tipo de inmuebles con un índice de desarrollo MEDIO en CDMX : {data_consumo_19_f[data_consumo_19_f['indice_des'] == 'MEDIO']['consumo_total'].sum() / data_consumo_19_f[data_consumo_19_f['indice_des'] == 'MEDIO']['total_inmuebles'].sum()}\")\n",
    "print(f\"El consumo promedio de todo tipo de inmuebles con un índice de desarrollo BAJO en CDMX : {data_consumo_19_f[data_consumo_19_f['indice_des'] == 'BAJO']['consumo_total'].sum() / data_consumo_19_f[data_consumo_19_f['indice_des'] == 'BAJO']['total_inmuebles'].sum()}\")\n",
    "print(f\"El consumo promedio de todo tipo de inmuebles con un índice de desarrollo POPULAR en CDMX : {data_consumo_19_f[data_consumo_19_f['indice_des'] == 'POPULAR']['consumo_total'].sum() / data_consumo_19_f[data_consumo_19_f['indice_des'] == 'POPULAR']['total_inmuebles'].sum()}\")"
   ]
  },
  {
   "cell_type": "code",
   "execution_count": null,
   "id": "3e4f4088",
   "metadata": {},
   "outputs": [],
   "source": [
    "fig, axes = plt.subplots(1, 4, figsize=(30, 7))  # Increase figsize for better spacing\n",
    "\n",
    "category = 'ALTO'\n",
    "subset_alto = data_consumo_19_f[data_consumo_19_f['indice_des'] == category]\n",
    "total_cat = data_consumo_19_f[data_consumo_19_f['indice_des'] == 'ALTO']['inmuebles_domesticos'].sum()\n",
    "axes[0].scatter(subset_alto['inmuebles_domesticos'], subset_alto['consumo_total_dom'], alpha=0.7, label=f'Índice de Desarrollo {category}')\n",
    "axes[0].set_title(f'Consumo vs # Inmuebles Dom con Alto IDU' + f' ({int(total_cat)} inmuebles)')\n",
    "axes[0].set_ylim(0, 100000)\n",
    "axes[0].set_xlabel('Total Inmuebles')\n",
    "axes[0].set_ylabel('Consumo de Agua (m³)')\n",
    "\n",
    "category = 'MEDIO'\n",
    "subset_medio = data_consumo_19_f[data_consumo_19_f['indice_des'] == category]\n",
    "total_cat = data_consumo_19_f[data_consumo_19_f['indice_des'] == 'MEDIO']['inmuebles_domesticos'].sum()\n",
    "axes[1].scatter(subset_medio['inmuebles_domesticos'], subset_medio['consumo_total_dom'], alpha=0.7, label=f'Índice de Desarrollo {category}')\n",
    "axes[1].set_title(f'Consumo vs # Inmuebles Dom con Medio IDU' + f' ({int(total_cat)} inmuebles)')\n",
    "axes[1].set_ylim(0, 100000)\n",
    "axes[1].set_xlabel('Total Inmuebles')\n",
    "axes[1].set_ylabel('Consumo de Agua (m³)')\n",
    "\n",
    "category = 'BAJO'\n",
    "subset_bajo = data_consumo_19_f[data_consumo_19_f['indice_des'] == category]\n",
    "total_cat = data_consumo_19_f[data_consumo_19_f['indice_des'] == 'BAJO']['inmuebles_domesticos'].sum()\n",
    "axes[2].scatter(subset_bajo['inmuebles_domesticos'], subset_bajo['consumo_total_dom'], alpha=0.7, label=f'Índice de Desarrollo {category}')\n",
    "axes[2].set_title(f'Consumo vs # Inmuebles Dom con Bajo IDU' + f' ({int(total_cat)} inmuebles)')\n",
    "axes[2].set_ylim(0, 100000)\n",
    "axes[2].set_xlabel('Total Inmuebles')\n",
    "axes[2].set_ylabel('Consumo de Agua (m³)')\n",
    "\n",
    "category = 'POPULAR'\n",
    "subset_pop = data_consumo_19_f[data_consumo_19_f['indice_des'] == category]\n",
    "total_cat = data_consumo_19_f[data_consumo_19_f['indice_des'] == 'POPULAR']['inmuebles_domesticos'].sum()\n",
    "axes[3].scatter(subset_pop['inmuebles_domesticos'], subset_pop['consumo_total_dom'], alpha=0.7, label=f'Índice de Desarrollo {category}')\n",
    "axes[3].set_title(f'Consumo vs # Inmuebles Dom con Popular IDU' + f' ({int(total_cat)} inmuebles)')\n",
    "axes[3].set_ylim(0, 100000)\n",
    "axes[3].set_xlabel('Total Inmuebles')\n",
    "axes[3].set_ylabel('Consumo de Agua (m³)')\n",
    "\n",
    "plt.show()"
   ]
  },
  {
   "cell_type": "code",
   "execution_count": null,
   "id": "cafcdfaa",
   "metadata": {},
   "outputs": [],
   "source": [
    "print(f\"El consumo promedio de casas con un índice de desarrollo ALTO en CDMX : {data_consumo_19_f[data_consumo_19_f['indice_des'] == 'ALTO']['consumo_total_dom'].sum() / data_consumo_19_f[data_consumo_19_f['indice_des'] == 'ALTO']['inmuebles_domesticos'].sum()}\")\n",
    "print(f\"El número total de inmuebles habitacionales con índice de desarrollo ALTO en CDMX : {data_consumo_19_f[data_consumo_19_f['indice_des'] == 'ALTO']['inmuebles_domesticos'].sum()}\")\n",
    "print(f\"El número total de métros cúbicos consumidos por inmuebles con índice de desarrollo ALTO en CDMX : {data_consumo_19_f[data_consumo_19_f['indice_des'] == 'ALTO']['consumo_total_dom'].sum()}\")\n",
    "print()\n",
    "\n",
    "print(f\"El consumo promedio de casas con un índice de desarrollo MEDIO en CDMX : {data_consumo_19_f[data_consumo_19_f['indice_des'] == 'MEDIO']['consumo_total_dom'].sum() / data_consumo_19_f[data_consumo_19_f['indice_des'] == 'MEDIO']['inmuebles_domesticos'].sum()}\")\n",
    "print(f\"El número total de inmuebles habitacionales con índice de desarrollo MEDIO en CDMX : {data_consumo_19_f[data_consumo_19_f['indice_des'] == 'MEDIO']['inmuebles_domesticos'].sum()}\")\n",
    "print(f\"El número total de métros cúbicos consumidos por inmuebles con índice de desarrollo MEDIO en CDMX : {data_consumo_19_f[data_consumo_19_f['indice_des'] == 'MEDIO']['consumo_total_dom'].sum()}\")\n",
    "print()\n",
    "\n",
    "print(f\"El consumo promedio de casas con un índice de desarrollo BAJO en CDMX : {data_consumo_19_f[data_consumo_19_f['indice_des'] == 'BAJO']['consumo_total_dom'].sum() / data_consumo_19_f[data_consumo_19_f['indice_des'] == 'BAJO']['inmuebles_domesticos'].sum()}\")\n",
    "print(f\"El número total de inmuebles habitacionales con índice de desarrollo BAJO en CDMX : {data_consumo_19_f[data_consumo_19_f['indice_des'] == 'BAJO']['inmuebles_domesticos'].sum()}\")\n",
    "print(f\"El número total de métros cúbicos consumidos por inmuebles con índice de desarrollo BAJO en CDMX : {data_consumo_19_f[data_consumo_19_f['indice_des'] == 'BAJO']['consumo_total_dom'].sum()}\")\n",
    "print()\n",
    "\n",
    "print(f\"El consumo promedio de casas con un índice de desarrollo POPULAR en CDMX : {data_consumo_19_f[data_consumo_19_f['indice_des'] == 'POPULAR']['consumo_total_dom'].sum() / data_consumo_19_f[data_consumo_19_f['indice_des'] == 'POPULAR']['inmuebles_domesticos'].sum()}\")\n",
    "print(f\"El número total de inmuebles habitacionales con índice de desarrollo POPULAR en CDMX : {data_consumo_19_f[data_consumo_19_f['indice_des'] == 'POPULAR']['inmuebles_domesticos'].sum()}\")\n",
    "print(f\"El número total de métros cúbicos consumidos por inmuebles con índice de desarrollo POPULAR en CDMX : {data_consumo_19_f[data_consumo_19_f['indice_des'] == 'POPULAR']['consumo_total_dom'].sum()}\")\n",
    "print()"
   ]
  },
  {
   "cell_type": "code",
   "execution_count": null,
   "id": "f73f2db7",
   "metadata": {},
   "outputs": [],
   "source": [
    "data_consumo_19_f[data_consumo_19_f['consumo_total_dom'] > 40000].sort_values(by='consumo_total_dom', ascending=False)"
   ]
  },
  {
   "cell_type": "code",
   "execution_count": null,
   "id": "814d6813",
   "metadata": {},
   "outputs": [],
   "source": [
    "fig, axes = plt.subplots(1, 4, figsize=(30, 7))  # Increase figsize for better spacing\n",
    "\n",
    "category = 'ALTO'\n",
    "subset_alto = data_consumo_19_f[data_consumo_19_f['indice_des'] == category]\n",
    "total_cat = data_consumo_19_f[data_consumo_19_f['indice_des'] == 'ALTO']['inmuebles_no_domesticos'].sum()\n",
    "axes[0].scatter(subset_alto['inmuebles_no_domesticos'], subset_alto['consumo_total_no_dom'], alpha=0.7, label=f'Índice de Desarrollo {category}')\n",
    "axes[0].set_title(f'Consumo vs # Inmuebles No Dom con Alto IDU' + f' ({int(total_cat)} inmuebles)')\n",
    "axes[0].set_ylim(0, 100000)\n",
    "axes[0].set_xlabel('Total Inmuebles')\n",
    "axes[0].set_ylabel('Consumo de Agua (m³)')\n",
    "\n",
    "category = 'MEDIO'\n",
    "subset_medio = data_consumo_19_f[data_consumo_19_f['indice_des'] == category]\n",
    "total_cat = data_consumo_19_f[data_consumo_19_f['indice_des'] == 'MEDIO']['inmuebles_no_domesticos'].sum()\n",
    "axes[1].scatter(subset_medio['inmuebles_no_domesticos'], subset_medio['consumo_total_no_dom'], alpha=0.7, label=f'Índice de Desarrollo {category}')\n",
    "axes[1].set_title(f'Consumo vs # Inmuebles No Dom con Medio IDU' + f' ({int(total_cat)} inmuebles)')\n",
    "axes[1].set_ylim(0, 100000)\n",
    "axes[1].set_xlabel('Total Inmuebles')\n",
    "axes[1].set_ylabel('Consumo de Agua (m³)')\n",
    "\n",
    "category = 'BAJO'\n",
    "subset_bajo = data_consumo_19_f[data_consumo_19_f['indice_des'] == category]\n",
    "total_cat = data_consumo_19_f[data_consumo_19_f['indice_des'] == 'BAJO']['inmuebles_no_domesticos'].sum()\n",
    "axes[2].scatter(subset_bajo['inmuebles_no_domesticos'], subset_bajo['consumo_total_no_dom'], alpha=0.7, label=f'Índice de Desarrollo {category}')\n",
    "axes[2].set_title(f'Consumo vs # Inmuebles No Dom con Bajo IDU' + f' ({int(total_cat)} inmuebles)')\n",
    "axes[2].set_ylim(0, 100000)\n",
    "axes[2].set_xlabel('Total Inmuebles')\n",
    "axes[2].set_ylabel('Consumo de Agua (m³)')\n",
    "\n",
    "category = 'POPULAR'\n",
    "subset_pop = data_consumo_19_f[data_consumo_19_f['indice_des'] == category]\n",
    "total_cat = data_consumo_19_f[data_consumo_19_f['indice_des'] == 'POPULAR']['inmuebles_no_domesticos'].sum()\n",
    "axes[3].scatter(subset_pop['inmuebles_no_domesticos'], subset_pop['consumo_total_no_dom'], alpha=0.7, label=f'Índice de Desarrollo {category}')\n",
    "axes[3].set_title(f'Consumo vs # Inmuebles No Dom con Popular IDU' + f' ({int(total_cat)} inmuebles)')\n",
    "axes[3].set_ylim(0, 100000)\n",
    "axes[3].set_xlabel('Total Inmuebles')\n",
    "axes[3].set_ylabel('Consumo de Agua (m³)')\n",
    "\n",
    "plt.show()"
   ]
  },
  {
   "cell_type": "code",
   "execution_count": null,
   "id": "5a88b588",
   "metadata": {},
   "outputs": [],
   "source": [
    "data_consumo_19_f[data_consumo_19_f['consumo_total_no_dom'] > 40000].sort_values(by='consumo_total_no_dom', ascending=False)"
   ]
  },
  {
   "cell_type": "markdown",
   "id": "c650914d",
   "metadata": {},
   "source": [
    "* ¿Cuál es el la proporción de la fuente del consumo (i.e. doméstico, no doméstico, mixto)?"
   ]
  },
  {
   "cell_type": "code",
   "execution_count": null,
   "id": "73b89cd6",
   "metadata": {},
   "outputs": [],
   "source": [
    "# Make a pie chart using the proportions in the columns ALTO, BAJO, MEDIO and POPULAR\n",
    "plt.figure(figsize=(10, 6))\n",
    "\n",
    "sizes = [data_consumo_19_f['consumo_total_dom'].sum(), data_consumo_19_f['consumo_total_no_dom'].sum(), data_consumo_19_f['consumo_total_mixto'].sum()]\n",
    "labels = ['consumo_total_dom', 'consumo_total_no_dom', 'consumo_total_mixto']\n",
    "\n",
    "plt.pie(sizes, labels=labels, autopct='%1.1f%%', startangle=140, colors=sns.color_palette(\"pastel\", len(sizes)))\n",
    "plt.title(\"Proporción de la Fuente del Consumo\")\n",
    "plt.axis('equal')  # Equal aspect ratio ensures that pie is drawn as a circle.\n",
    "plt.show()"
   ]
  },
  {
   "cell_type": "markdown",
   "id": "ccd704d4",
   "metadata": {},
   "source": [
    "* ¿Hay colonias con un consumo desproporcionado en relación con el número de inmuebles? ¿Cuáles? - Usar total agregando por colonia y alcaldía"
   ]
  },
  {
   "cell_type": "code",
   "execution_count": null,
   "id": "435cc907",
   "metadata": {},
   "outputs": [],
   "source": [
    "# Podemos encontrar ese consumo desproporcionado utilizando el consumo promedio\n",
    "consumo_prom = data_consumo_19_f[['consumo_prom_dom', 'consumo_prom_no_dom', 'consumo_prom_mixto', 'indice_des', 'colonia', 'alcaldia']]\n",
    "consumo_prom.sort_values(by='consumo_prom_dom', ascending=False).head(20)"
   ]
  },
  {
   "cell_type": "markdown",
   "id": "cfb4dbae",
   "metadata": {},
   "source": [
    "* Cuántas colonias representan más del 50% del consumo total doméstico"
   ]
  },
  {
   "cell_type": "code",
   "execution_count": null,
   "id": "25bfe04b",
   "metadata": {},
   "outputs": [],
   "source": [
    "suma = 0\n",
    "i = 0\n",
    "while suma < all_agg['consumo_total_dom'].sum() * 0.5: \n",
    "    suma += all_agg.sort_values(by='consumo_total_dom', ascending=False)['consumo_total_dom'][i]\n",
    "    i +=1\n",
    "    \n",
    "i"
   ]
  },
  {
   "cell_type": "markdown",
   "id": "c219ed56",
   "metadata": {},
   "source": [
    "* Alcaldías que más gastan"
   ]
  },
  {
   "cell_type": "code",
   "execution_count": null,
   "id": "0b8d7948",
   "metadata": {},
   "outputs": [],
   "source": [
    "# Neighborhood aggregation (since we have duplicated neighborhoods, we can aggregate the data by summing the total consumption)\n",
    "data_consumo_19_agg_alc = data_consumo_19_f.groupby(['alcaldia']).agg({\n",
    "    'consumo_total': 'sum',\n",
    "    'inmuebles_domesticos': 'sum',\n",
    "    'consumo_total_dom': 'sum',\n",
    "    #'consumo_prom_dom': 'mean',\n",
    "    'inmuebles_no_domesticos': 'sum',\n",
    "    'consumo_total_no_dom': 'sum',\n",
    "    #'consumo_prom_no_dom': 'mean',\n",
    "    'inmuebles_mixtos': 'sum',\n",
    "    'consumo_total_mixto': 'sum',\n",
    "    'total_inmuebles': 'sum',\n",
    "    #'indice_des': 'mean'\n",
    "}).reset_index()\n",
    "\n",
    "\n",
    "# We filter out rows where all consumption values are zero\n",
    "data_consumo_19_agg_alc = data_consumo_19_agg_alc[~(data_consumo_19_agg_alc.iloc[:, 2:] == 0).all(axis=1)]\n",
    "\n",
    "# insert a pivot and create new columns based on indice_des column using the values\n",
    "share_idx_des_alc = data_consumo_19_f.pivot_table(\n",
    "    index=['alcaldia'],\n",
    "    columns='indice_des',\n",
    "    values='total_inmuebles',\n",
    "    aggfunc='sum'\n",
    ").reset_index()\n",
    "\n",
    "all_agg_alc = data_consumo_19_agg_alc.merge(share_idx_des_alc, on=['alcaldia'], how='left')\n",
    "all_agg_alc.fillna(0, inplace=True)\n",
    "\n",
    "all_agg_alc.sort_values(by='consumo_total', ascending=False)"
   ]
  },
  {
   "cell_type": "code",
   "execution_count": null,
   "id": "d5f1eb6b",
   "metadata": {},
   "outputs": [],
   "source": [
    "all_agg_alc.sort_values(by='consumo_total_dom', ascending=False)"
   ]
  },
  {
   "cell_type": "code",
   "execution_count": null,
   "id": "b091d4c4",
   "metadata": {},
   "outputs": [],
   "source": [
    "all_agg_alc.sort_values(by='consumo_total_no_dom', ascending=False)"
   ]
  },
  {
   "cell_type": "markdown",
   "id": "31347426",
   "metadata": {},
   "source": [
    "* ¿Cuál es el la proporción del índice de desarrollo en dichas alcaldías?"
   ]
  },
  {
   "cell_type": "code",
   "execution_count": null,
   "id": "5493d942",
   "metadata": {},
   "outputs": [],
   "source": [
    "# En toda la ciudad\n",
    "plt.figure(figsize=(150,10))\n",
    "sizes = [all_agg_alc['ALTO'].sum(), all_agg_alc['MEDIO'].sum(), all_agg_alc['BAJO'].sum(), all_agg_alc['POPULAR'].sum()]\n",
    "labels = ['ALTO', 'MEDIO', 'BAJO', 'POPULAR']\n",
    "plt.pie(sizes, labels=labels, autopct='%1.1f%%', startangle=0, colors=sns.color_palette(\"pastel\", len(sizes)))\n",
    "plt.title('Proporción de, Índice de Desarrollo en la Ciudad de México de todo tipo de inmuebles')\n",
    "plt.show()"
   ]
  },
  {
   "cell_type": "markdown",
   "id": "a4417d3d",
   "metadata": {},
   "source": [
    "* ¿Cuál es el la proporción de la fuente del consumo (i.e. doméstico, no doméstico, mixto)?"
   ]
  },
  {
   "cell_type": "code",
   "execution_count": null,
   "id": "1e49ad89",
   "metadata": {},
   "outputs": [],
   "source": [
    "plt.figure(figsize=(15,10))\n",
    "sizes = [all_agg_alc['consumo_total_dom'].sum(), all_agg_alc['consumo_total_no_dom'].sum(), all_agg_alc['consumo_total_mixto'].sum()]\n",
    "labels = ['Consumo Doméstico', 'Consumo No Doméstico', 'Consumo Mixto']\n",
    "plt.pie(sizes, labels=labels, autopct='%1.1f%%', startangle=0, colors=sns.color_palette('pastel', len(sizes)))\n",
    "plt.title('Proporción de la Fuente de Consumo de agua en CDMX')\n",
    "plt.show()"
   ]
  },
  {
   "cell_type": "markdown",
   "id": "aa759557",
   "metadata": {},
   "source": [
    "* Alcaldías con un consumo desproporcionado"
   ]
  },
  {
   "cell_type": "code",
   "execution_count": null,
   "id": "3b901771",
   "metadata": {},
   "outputs": [],
   "source": [
    "all_agg_alc['consumo_dom_prom'] = all_agg_alc['consumo_total_dom'] / all_agg_alc['inmuebles_domesticos']\n",
    "all_agg_alc['consumo_no_dom_prom'] = all_agg_alc['consumo_total_no_dom'] / all_agg_alc['inmuebles_no_domesticos']\n",
    "all_agg_alc['consumo_mixto_prom'] = all_agg_alc['consumo_total_mixto'] / all_agg_alc['inmuebles_mixtos']"
   ]
  },
  {
   "cell_type": "code",
   "execution_count": null,
   "id": "8c1ff75f",
   "metadata": {},
   "outputs": [],
   "source": [
    "all_agg_alc.sort_values(by='consumo_dom_prom', ascending=False)"
   ]
  },
  {
   "cell_type": "markdown",
   "id": "485f06c0",
   "metadata": {},
   "source": [
    "### Factibilidad Hídrica en Ciudad de México (2016)\n"
   ]
  },
  {
   "cell_type": "markdown",
   "id": "f17222cd",
   "metadata": {},
   "source": [
    "| Grado de Factibilidad Hídrica | Descripción / Significado                                | Color       \n",
    "| ----------------------------- | -------------------------------------------------------- | ----------- \n",
    "| Alta factibilidad 🌟          | Zonas con alta capacidad para mitigar riesgo de escasez  | 🟩 Verde    \n",
    "| Media-alta factibilidad ⚠️    | Zonas con buena capacidad, pero con algunas limitaciones | 🟨 Amarillo \n",
    "| Media-baja factibilidad 🔶    | Zonas con capacidad limitada para mitigar riesgo         | 🟧 Naranja  \n",
    "| Baja factibilidad ❌           | Zonas con poca o nula capacidad para mitigar riesgo      | 🟥 Rojo    "
   ]
  },
  {
   "cell_type": "code",
   "execution_count": null,
   "id": "ad9c65d3",
   "metadata": {},
   "outputs": [],
   "source": [
    "dir_color = {'ROJO' : 'red',\n",
    "             'AMARILLO' : 'yellow',\n",
    "             'NARANJA' : 'orange',\n",
    "             'VERDE' : 'green'}\n",
    "\n",
    "# Map the colors to a new column\n",
    "data_feasibility['color'] = data_feasibility['fact_hidr'].map(dir_color)\n",
    "\n",
    "# Plot\n",
    "fig, ax = plt.subplots(figsize=(10, 10))\n",
    "data_feasibility.plot(ax=ax, color=data_feasibility['color'], edgecolor='black', linewidth=0.1)\n",
    "plt.title('Factibilidad Hídrica en Ciudad de México', fontsize=14)\n",
    "plt.axis('off')\n",
    "plt.show()"
   ]
  },
  {
   "cell_type": "code",
   "execution_count": null,
   "id": "454a9575",
   "metadata": {},
   "outputs": [],
   "source": [
    "all_agg[all_agg['colonia'] == 'SAN ALVARO']"
   ]
  },
  {
   "cell_type": "code",
   "execution_count": null,
   "id": "b4dd7912",
   "metadata": {},
   "outputs": [],
   "source": [
    "feasi_and_consumo = data_feasibility.merge(all_agg, left_on=['NOMBRE'], right_on=['colonia'])\n",
    "feasi_and_consumo.head()"
   ]
  },
  {
   "cell_type": "markdown",
   "id": "d31c922f",
   "metadata": {},
   "source": [
    "### Consumo Habitacional (2019)"
   ]
  },
  {
   "cell_type": "markdown",
   "id": "de52f298",
   "metadata": {},
   "source": [
    "Diccionario : \n",
    "\n",
    "**SUM_cons_t**   \n",
    "Suma del consumo total de agua por colonia (m3) por bimestre\n",
    "\n",
    "**MEAN_cons_**   \n",
    "Promedio de consumo total de colonia (m3) por bimestre\n",
    "\n",
    "**VIV2010**   \n",
    "Vivienda censo 2010\n",
    "\n",
    "**PROMVIVCON**   \n",
    "\"Promedio de consumo total de agua de la colonia por número de viviendas\"\n",
    "\n",
    "**C_PROMVIVC**   \n",
    "\"Campo reclasificado en cuantiles en 5 rangos a partir de \"PROMVIVCON\"; donde el valor \"5\" corresponde a un consumo de agua muy alto, mientras que el número \"1\" a un consumo bajo\"\n",
    "\n"
   ]
  },
  {
   "cell_type": "code",
   "execution_count": null,
   "id": "0b3be94c",
   "metadata": {},
   "outputs": [],
   "source": [
    "# Bulding a classification depending on total consumption of each county\n",
    "all_agg['q_class_all'] = pd.qcut(all_agg['consumo_total'], q=5, labels=False)\n",
    "all_agg['q_class_all'] = all_agg['q_class_all'] + 1\n",
    "\n",
    "all_agg['q_class_dom'] = pd.qcut(all_agg['consumo_total_dom'], q=5, labels=False)\n",
    "all_agg['q_class_dom'] = all_agg['q_class_dom'] + 1\n",
    "\n",
    "# mergin two dfs\n",
    "data_hab = hab_consoumption[['geometry', 'alcaldia', 'colonia', 'PROMVIVCON', 'C_PROMVIVC', 'SUM_cons_t']].merge(all_agg, left_on=['alcaldia','colonia'], right_on=['alcaldia', 'colonia'], how='left')\n",
    "# data_hab.loc[data_hab['q_class_dom'].isna(), 'q_class_dom'] = data_hab.loc[data_hab['q_class_dom'].isna(), 'C_PROMVIVC']\n",
    "\n",
    "data_hab.loc[data_hab['q_class_all'].isna(), 'q_class_all'] = data_hab.loc[data_hab['q_class_all'].isna(), 'C_PROMVIVC']\n",
    "data_hab.loc[data_hab['consumo_total'].isna(), 'consumo_total'] = data_hab.loc[data_hab['consumo_total'].isna(), 'SUM_cons_t']"
   ]
  },
  {
   "cell_type": "code",
   "execution_count": null,
   "id": "def03353",
   "metadata": {},
   "outputs": [],
   "source": [
    "# Plot\n",
    "fig, ax = plt.subplots(figsize=(10, 10))\n",
    "data_hab.plot(column='q_class_all', legend=True, edgecolor='black', linewidth=0.1, ax=ax, cmap='viridis')\n",
    "plt.title('Consumo de Agua en Ciudad de México', fontsize=14)\n",
    "plt.axis('off')\n",
    "plt.show()"
   ]
  },
  {
   "cell_type": "code",
   "execution_count": null,
   "id": "7dd310b1",
   "metadata": {},
   "outputs": [],
   "source": [
    "data_hab_agg = data_hab.groupby('alcaldia').agg({\n",
    "    'consumo_total' : 'sum',\n",
    "    'consumo_total_dom' : 'sum',\n",
    "    'consumo_total_no_dom' : 'sum',\n",
    "     'consumo_total_mixto' : 'sum',\n",
    "}).reset_index()\n",
    "data_hab_agg.sort_values(by='consumo_total', inplace=True)\n",
    "\n",
    "# Set positions for the bars\n",
    "alcaldias = data_hab_agg['alcaldia']\n",
    "dom = data_hab_agg['consumo_total_dom']\n",
    "no_dom = data_hab_agg['consumo_total_no_dom']\n",
    "mixto = data_hab_agg['consumo_total_mixto']\n",
    "\n",
    "# Create stacked bar plot\n",
    "fig, ax = plt.subplots(figsize=(10, 6))\n",
    "\n",
    "ax.barh(alcaldias, dom, label='Doméstico')\n",
    "ax.barh(alcaldias, no_dom, left=dom, label='No Doméstico')\n",
    "ax.barh(alcaldias, mixto, left=dom + no_dom, label='Mixto')\n",
    "\n",
    "# Labels and legend\n",
    "ax.set_ylabel('Consumo Total')\n",
    "ax.set_title('Consumo de Agua por Alcaldía y Tipo de Uso')\n",
    "ax.legend()\n",
    "\n",
    "# plt.xticks(rotation=45)\n",
    "plt.tight_layout()\n",
    "plt.show()"
   ]
  },
  {
   "cell_type": "markdown",
   "id": "44a200a7",
   "metadata": {},
   "source": [
    "### Probabilidad de Escasez"
   ]
  },
  {
   "cell_type": "code",
   "execution_count": null,
   "id": "9708caa7",
   "metadata": {},
   "outputs": [],
   "source": [
    "\n",
    "import requests\n",
    "import json\n",
    "import re\n",
    "import plotly.express as px\n",
    "\n",
    "# Load Mexico Map and states\n",
    "# url = \"https://raw.githubusercontent.com/angelnmara/geojson/master/mexicoHigh.json\"\n",
    "# geojson = requests.get(url).json()\n",
    "\n",
    "# Load CDMX alcaldías GeoJSON\n",
    "with open('data/water/sequia/limite-de-las-alcaldas.json', 'r', encoding='utf-8') as f:\n",
    "    data = json.load(f)\n",
    "alcaldias_cdmx = gpd.GeoDataFrame.from_features(data['features'])\n",
    "alcaldias_cdmx = alcaldias_cdmx.set_crs(epsg=4326, inplace=True)\n",
    "geojson = alcaldias_cdmx.__geo_interface__\n",
    "\n",
    "# Step 1: Identify id_vars (the static columns)\n",
    "id_vars = ['Region de lluvias y fecha de solicitud de corroboración', 'CVE_CONCATENADA', 'CVE_ENT', 'CVE_MUN', 'NOMBRE_MUN', 'ENTIDAD',\n",
    "           'ORG_CUENCA', 'CLV_OC', 'CON_CUENCA', 'CVE_CONC']\n",
    "\n",
    "# Step 2: Melt all other columns\n",
    "df_melted = data_drought.melt(id_vars=id_vars, var_name='variable', value_name='value')\n",
    "\n",
    "# Create category and date columns\n",
    "category = []\n",
    "date = []\n",
    "for i in df_melted['variable'].astype(str):\n",
    "    tup = i.split('/')\n",
    "    category.append(tup[0])\n",
    "    date.append(tup[1])\n",
    "    \n",
    "df_melted['CATEGORY'] = category\n",
    "df_melted['CATEGORY'] = df_melted['CATEGORY'].str.replace(r'\\.\\d+$', '', regex=True)\n",
    "\n",
    "df_melted['DATE'] = date\n",
    "df_melted['DATE'] = pd.to_datetime(df_melted['DATE'])\n",
    "df_melted['MONTH'] = df_melted['DATE'].dt.month_name()\n",
    "df_melted['YEAR'] = df_melted['DATE'].dt.year\n",
    "df_melted['DATE'] = df_melted['DATE'].dt.strftime('%Y-%m')\n",
    "\n",
    "# Mexico city filter, adding map and taking MAGNITUD value onl7\n",
    "mxc_drought = df_melted[(df_melted['ENTIDAD'] == 'Ciudad de México') & (df_melted['CATEGORY'] == 'MAGNITUD')]\n",
    "mxc_drought = pd.merge(mxc_drought, alcaldias_cdmx[['CVE_MUN', 'geometry']], on='CVE_MUN', how='left')\n",
    "\n",
    "color_map = {\n",
    "    'SIN SEQUIA': '#f0f0f0',     # Very light gray / near white\n",
    "    'PRE-ALERTA': '#1a9850',     # Light gray\n",
    "    'VERDE': '#a6d96a',          # Soft green\n",
    "    'AMARILLO': '#ffffbf',       # Yellow\n",
    "    'NARANJA': '#fdae61',        # Orange\n",
    "    'ROJO': '#d73027'            # Red\n",
    "}\n",
    "\n",
    "mxc_drought['color'] = mxc_drought[mxc_drought['CATEGORY'] == 'MAGNITUD']['value'].map(color_map)\n",
    "mxc_drought = gpd.GeoDataFrame(mxc_drought, geometry='geometry')\n",
    "# mxc_drought[\"geometry\"] = mxc_drought[\"geometry\"].simplify(tolerance=0.0005, preserve_topology=True)\n",
    "\n",
    "# Data Processing\n",
    "number_map = {\n",
    "    'SIN SEQUIA': 1,     # Very light gray / near white\n",
    "    'PRE-ALERTA': 2,     # Light gray\n",
    "    'VERDE': 3,          # Soft green\n",
    "    'AMARILLO': 4,       # Yellow\n",
    "    'NARANJA': 5,        # Orange\n",
    "    'ROJO': 6            # Red\n",
    "}\n",
    "\n",
    "mxc_drought['VALUE'] = mxc_drought[mxc_drought['CATEGORY'] == 'MAGNITUD']['value'].map(number_map)\n",
    "mxc_drought.head()"
   ]
  },
  {
   "cell_type": "markdown",
   "id": "05fe6536",
   "metadata": {},
   "source": [
    "* Comparison between all 2003, 2013 and 2023 years (Animated plots)"
   ]
  },
  {
   "cell_type": "code",
   "execution_count": null,
   "id": "38191a49",
   "metadata": {},
   "outputs": [],
   "source": [
    "# mxc_drought['DATE'] = pd.to_datetime(mxc_drought['DATE'])\n",
    "\n",
    "# mxc_drought_2003_s = mxc_drought[mxc_drought['DATE'] == '2003-01-01']\n",
    "# mxc_drought_2013_s = mxc_drought[mxc_drought['DATE'] == '2013-01-01']\n",
    "# # mxc_drought_2023_s = mxc_drought[mxc_drought['DATE'] == '2023-01-01']\n",
    "\n",
    "# mxc_drought_2003_a = mxc_drought[(mxc_drought['DATE'] >= '2003-01-01') & (mxc_drought['DATE'] <= '2003-12-01')]\n",
    "# mxc_drought_2013_a = mxc_drought[(mxc_drought['DATE'] >= '2013-01-01') & (mxc_drought['DATE'] <= '2013-12-01')]\n",
    "# mxc_drought_2023_a = mxc_drought[(mxc_drought['DATE'] >= '2023-01-01') & (mxc_drought['DATE'] <= '2023-12-01')]"
   ]
  },
  {
   "cell_type": "code",
   "execution_count": null,
   "id": "78f17356",
   "metadata": {},
   "outputs": [],
   "source": [
    "mxc_drought['VALUE'] = mxc_drought['VALUE'].astype(int)"
   ]
  },
  {
   "cell_type": "code",
   "execution_count": null,
   "id": "3a94a00a",
   "metadata": {},
   "outputs": [],
   "source": [
    "def plot_static_map(df, title, show=True, write=False, file_name=None) : \n",
    "    # Define your color mapping\n",
    "    color_discrete_map = {\n",
    "        'SIN SEQUIA': '#f0f0f0',\n",
    "        'PRE-ALERTA': '#d9d9d9',\n",
    "        'VERDE': '#a6d96a',\n",
    "        'AMARILLO': '#ffffbf',\n",
    "        'NARANJA': '#fdae61',\n",
    "        'ROJO': '#d73027'\n",
    "    }\n",
    "\n",
    "    fig = px.choropleth_mapbox(\n",
    "        df,\n",
    "        geojson=df.__geo_interface__,\n",
    "        locations=df.index,  # You can use index if each row is unique\n",
    "        color=\"value\",  # Use categorical value, not raw hex codes\n",
    "        hover_name=\"NOMBRE_MUN\",\n",
    "        hover_data=[\"CATEGORY\", \"value\", 'DATE'],\n",
    "        mapbox_style=\"carto-positron\",\n",
    "        zoom=9,\n",
    "        center={\"lat\": 19.33, \"lon\": -99.13},\n",
    "        opacity=0.8,\n",
    "        color_discrete_map=color_discrete_map\n",
    "    )\n",
    "\n",
    "\n",
    "    fig.update_layout(\n",
    "        margin={\"r\":0, \"t\":30, \"l\":0, \"b\":0},\n",
    "        title=title,\n",
    "        width=1000,    # width in pixels\n",
    "        height=700,    # height in pixels\n",
    "        showlegend=False\n",
    "    )\n",
    "\n",
    "    if show:\n",
    "        # Show hover labels directly on the map\n",
    "        fig.update_traces()\n",
    "        fig.show()\n",
    "\n",
    "    if write : \n",
    "        if file_name == None : \n",
    "            file_name = 'fig.html'\n",
    "        fig.write_html(file_name)\n",
    "    \n",
    "def plot_animated_map(df, title, show=True, write=False, file_name=None) : \n",
    "    # Convert DATE to string if it's datetime (required by Plotly animation)\n",
    "    # df[\"DATE\"] = df[\"DATE\"].astype(str)\n",
    "\n",
    "    # Define category → color mapping\n",
    "    color_discrete_map = {\n",
    "        'SIN SEQUIA': '#f0f0f0',\n",
    "        'PRE-ALERTA': '#d9d9d9',\n",
    "        'VERDE': '#a6d96a',\n",
    "        'AMARILLO': '#ffffbf',\n",
    "        'NARANJA': '#fdae61',\n",
    "        'ROJO': '#d73027'\n",
    "    }\n",
    "    \n",
    "    color_map = {\n",
    "    \"1\": '#f0f0f0',     # Very light gray / near white\n",
    "    \"2\": '#1a9850',     # Light gray\n",
    "    \"3\": '#a6d96a',          # Soft green\n",
    "    \"4\": '#ffe066',       # Yellow\n",
    "    \"5\": '#fdae61',        # Orange\n",
    "    \"6\": '#d73027'            # Red\n",
    "    }\n",
    "    \n",
    "    mxc_drought_t = df[['DATE', 'geometry', 'NOMBRE_MUN', 'VALUE', 'color']]\n",
    "    \n",
    "    vmin = np.log10(mxc_drought_t[\"VALUE\"].min())\n",
    "    vmax = np.log10(mxc_drought_t[\"VALUE\"].max())\n",
    "\n",
    "    def normalize(val):\n",
    "        return (val - 1) / (6 - 1)\n",
    "\n",
    "    custom_scale = [\n",
    "        (normalize(1), \"#f0f0f0\"),\n",
    "        (normalize(2), \"#1a9850\"),\n",
    "        (normalize(3), \"#a6d96a\"),\n",
    "        (normalize(4), \"#ffe066\"),\n",
    "        (normalize(5), \"#fdae61\"),\n",
    "        (normalize(6), \"#d73027\"),\n",
    "    ]    \n",
    "\n",
    "    fig = px.choropleth_mapbox(mxc_drought_t,\n",
    "                        geojson=mxc_drought_t.__geo_interface__,\n",
    "                        locations=\"NOMBRE_MUN\",\n",
    "                        color=np.log10(mxc_drought_t[\"VALUE\"]),\n",
    "                        hover_name=\"NOMBRE_MUN\",\n",
    "                        hover_data=[\"VALUE\"],\n",
    "                        animation_frame='DATE',\n",
    "                        featureidkey='properties.NOMBRE_MUN',  # Adjust based on GeoJSON field\n",
    "                        # color_continuous_midpoint = 1,\n",
    "                        color_continuous_scale=custom_scale,\n",
    "                        range_color=[0,1],\n",
    "                        # color_discrete_map=color_map,\n",
    "                        mapbox_style=\"carto-positron\",\n",
    "                        center={\"lat\": 19.33, \"lon\": -99.1332},  # Center on Mexico City\n",
    "                        zoom=9,)\n",
    "\n",
    "    fig.update_layout(margin=dict(l=20,r=0,b=0,t=70,pad=0),\n",
    "                    paper_bgcolor=\"white\",\n",
    "                    width = 1000,\n",
    "                    height= 700,\n",
    "                    title_text = 'Evolución de la Sequía en la Ciudad de México 2003-2023',\n",
    "                    font_size=18,\n",
    "                    )\n",
    "    # fig.show()\n",
    "\n",
    "    if show : \n",
    "        # Show hover labels directly on the map\n",
    "        # fig.update_traces()\n",
    "        fig.show()\n",
    "        \n",
    "    if write : \n",
    "        if file_name == None:\n",
    "            file_name = 'fig.html'\n",
    "        fig.write_html(file_name)"
   ]
  },
  {
   "cell_type": "code",
   "execution_count": null,
   "id": "841b862c",
   "metadata": {},
   "outputs": [],
   "source": [
    "# plot_static_map(mxc_drought_2003_s, 'Sequía en Ciudad de México en Oct 2003')\n",
    "# plot_animated_map(mxc_drought_2003_a, 'Sequía en Ciudad de México en el año 2003', show=False, write=False, file_name='sequia_mxc_2003.html')"
   ]
  },
  {
   "cell_type": "code",
   "execution_count": null,
   "id": "1e5896da",
   "metadata": {},
   "outputs": [],
   "source": [
    "# plot_static_map(mxc_drought_2013_s, 'Sequía en Ciudad de México en Oct 2013')\n",
    "# plot_animated_map(mxc_drought_2013_a, 'Sequía en Ciudad de México en el año 2013', show=False, write=True, file_name='sequia_mxc_2013.html')"
   ]
  },
  {
   "cell_type": "code",
   "execution_count": null,
   "id": "06eab358",
   "metadata": {},
   "outputs": [],
   "source": [
    "# plot_static_map(mxc_drought_2023_s, 'Sequía en Ciudad de México en Oct 2023')\n",
    "# plot_animated_map(mxc_drought_2023_a, 'Sequía en Ciudad de México en el año 2023', show=False, write=True, file_name='sequia_mxc_2023.html')"
   ]
  },
  {
   "cell_type": "markdown",
   "id": "aa94dbe4",
   "metadata": {},
   "source": [
    "* Comparison between each year"
   ]
  },
  {
   "cell_type": "code",
   "execution_count": null,
   "id": "25055545",
   "metadata": {},
   "outputs": [],
   "source": [
    "# Filtering by year\n",
    "# mxc_drought_years_only = mxc_drought[(mxc_drought['MONTH'] == 'October')]\n",
    "# plot_animated_map(mxc_drought, 'Evolución de la Sequía en la Ciudad de México 2003-2023 (Oct only)', show=False, write=True, file_name='sequia_evolucion_mxc_oct.html')"
   ]
  },
  {
   "cell_type": "markdown",
   "id": "ae5d9fbc",
   "metadata": {},
   "source": [
    "#### Insights\n",
    "\n",
    "- Entender cuánto ha cambiado con el tiempo el número de alcaldías en alerta con sequía\n",
    "    * Maybe del 2023 vs T-5 años\n",
    "    * Maybe del 2023 vs T-10 años\n",
    "    * Maybe del 2023 vs T-20 años\n",
    "\n",
    "Cuantitativo y en gráfica"
   ]
  },
  {
   "cell_type": "code",
   "execution_count": null,
   "id": "1a748226",
   "metadata": {},
   "outputs": [],
   "source": [
    "mxc_drought[mxc_drought['YEAR'] == 2023]['value'].value_counts()"
   ]
  },
  {
   "cell_type": "code",
   "execution_count": null,
   "id": "4b5c8f96",
   "metadata": {},
   "outputs": [],
   "source": [
    "avg_status_per_year = (mxc_drought[['YEAR', 'CVE_MUN', 'NOMBRE_MUN', 'VALUE']].groupby(by=['YEAR', 'CVE_MUN','NOMBRE_MUN'])['VALUE'].sum()/12).reset_index()\n",
    "avg_merge = pd.merge(avg_status_per_year, alcaldias_cdmx[['geometry', 'CVE_MUN']], on='CVE_MUN', how='left')\n",
    "avg_merge = gpd.GeoDataFrame(avg_merge)\n",
    "\n",
    "# avg_merge['VALUE'] = avg_merge['VALUE']/10"
   ]
  },
  {
   "cell_type": "code",
   "execution_count": null,
   "id": "10d9dd66",
   "metadata": {},
   "outputs": [],
   "source": [
    "def normalize(val):\n",
    "    return (val - 1) / (6 - 1)\n",
    "\n",
    "custom_scale = [\n",
    "        (normalize(1), \"#f0f0f0\"),\n",
    "        (normalize(2), \"#1a9850\"),\n",
    "        (normalize(3), \"#a6d96a\"),\n",
    "        (normalize(4), \"#ffe066\"),\n",
    "        (normalize(5), \"#fdae61\"),\n",
    "        (normalize(6), \"#d73027\"),\n",
    "    ]    "
   ]
  },
  {
   "cell_type": "code",
   "execution_count": null,
   "id": "2b2849fb",
   "metadata": {},
   "outputs": [],
   "source": [
    "# fig = px.choropleth_mapbox(\n",
    "#     avg_merge[avg_merge['YEAR'] == 2023],\n",
    "#     geojson=avg_merge[avg_merge['YEAR'] == 2023].__geo_interface__,\n",
    "#     locations=avg_merge[avg_merge['YEAR'] == 2023].index,  # You can use index if each row is unique\n",
    "#     color=[normalize(x) for x in avg_merge[avg_merge['YEAR'] == 2023]['VALUE']],  # Use categorical value, not raw hex codes\n",
    "#     hover_name=\"NOMBRE_MUN\",\n",
    "#     hover_data=[\"VALUE\", \"NOMBRE_MUN\"],\n",
    "#     color_continuous_scale=custom_scale,\n",
    "#     range_color=[0,1],\n",
    "#     mapbox_style=\"carto-positron\",\n",
    "#     zoom=9,\n",
    "#     center={\"lat\": 19.33, \"lon\": -99.13},\n",
    "#     opacity=0.8,\n",
    "# )\n",
    "\n",
    "# fig.update_layout(\n",
    "#     margin={\"r\":0, \"t\":30, \"l\":0, \"b\":0},\n",
    "#     paper_bgcolor=\"white\",\n",
    "#     title='Estado de sequía en promedio en 2023',\n",
    "#     width=1000,    # width in pixels\n",
    "#     height=700,    # height in pixels\n",
    "#     showlegend=False,\n",
    "#     font_size=18\n",
    "# )\n",
    "\n",
    "# fig.show()\n",
    "\n",
    "# file_name = 'sequia_promedio_2023.html'\n",
    "# fig.write_html(file_name)"
   ]
  },
  {
   "cell_type": "code",
   "execution_count": null,
   "id": "60770fc1",
   "metadata": {},
   "outputs": [],
   "source": [
    "# fig = px.choropleth_mapbox(\n",
    "#     avg_merge,\n",
    "#     geojson=avg_merge.__geo_interface__,\n",
    "#     locations=\"NOMBRE_MUN\",  # You can use index if each row is unique\n",
    "#     color=[normalize(x) for x in avg_merge['VALUE']],  # Use categorical value, not raw hex codes\n",
    "#     hover_name=\"NOMBRE_MUN\",\n",
    "#     hover_data=[\"VALUE\", \"NOMBRE_MUN\"],\n",
    "#     color_continuous_scale=custom_scale,\n",
    "#     animation_frame='YEAR',\n",
    "#     featureidkey='properties.NOMBRE_MUN',  # Adjust based on GeoJSON field\n",
    "#     animation_group=\"NOMBRE_MUN\",\n",
    "#     range_color=[0,1],\n",
    "#     mapbox_style=\"carto-positron\",\n",
    "#     zoom=9,\n",
    "#     center={\"lat\": 19.33, \"lon\": -99.13},\n",
    "#     opacity=0.8,\n",
    "# )\n",
    "\n",
    "# fig.update_layout(\n",
    "#     margin={\"r\":0, \"t\":30, \"l\":0, \"b\":0},\n",
    "#     paper_bgcolor=\"white\",\n",
    "#     title='Estado de sequía en promedio en 2003-2023',\n",
    "#     width=1000,    # width in pixels\n",
    "#     height=700,    # height in pixels\n",
    "#     showlegend=False,\n",
    "#     font_size=18\n",
    "# )\n",
    "\n",
    "# fig.show()\n",
    "\n",
    "# file_name = 'sequia_promedio_evolution_3.html'\n",
    "# fig.write_html(file_name)"
   ]
  },
  {
   "cell_type": "code",
   "execution_count": null,
   "id": "e9ffdb89",
   "metadata": {},
   "outputs": [],
   "source": [
    "mxc_drought[mxc_drought['YEAR'] == 2018]['value'].value_counts()"
   ]
  },
  {
   "cell_type": "code",
   "execution_count": null,
   "id": "36db99cf",
   "metadata": {},
   "outputs": [],
   "source": [
    "# fig = px.choropleth_mapbox(\n",
    "#     avg_merge[avg_merge['YEAR'] == 2018],\n",
    "#     geojson=avg_merge[avg_merge['YEAR'] == 2018].__geo_interface__,\n",
    "#     locations=avg_merge[avg_merge['YEAR'] == 2018].index,  # You can use index if each row is unique\n",
    "#     color=[normalize(x) for x in avg_merge[avg_merge['YEAR'] == 2018]['VALUE']],  # Use categorical value, not raw hex codes\n",
    "#     hover_name=\"NOMBRE_MUN\",\n",
    "#     hover_data=[\"VALUE\", \"NOMBRE_MUN\"],\n",
    "#     color_continuous_scale=custom_scale,\n",
    "#     range_color=[0,1],\n",
    "#     mapbox_style=\"carto-positron\",\n",
    "#     zoom=9,\n",
    "#     center={\"lat\": 19.33, \"lon\": -99.13},\n",
    "#     opacity=0.8,\n",
    "# )\n",
    "\n",
    "# fig.update_layout(\n",
    "#     margin={\"r\":0, \"t\":30, \"l\":0, \"b\":0},\n",
    "#     paper_bgcolor=\"white\",\n",
    "#     title='Estado de sequía en promedio en 2018',\n",
    "#     width=1000,    # width in pixels\n",
    "#     height=700,    # height in pixels\n",
    "#     showlegend=False,\n",
    "#     font_size=18\n",
    "# )\n",
    "\n",
    "# fig.show()\n",
    "\n",
    "# file_name = 'sequia_promedio_2023.html'\n",
    "# fig.write_html(file_name)"
   ]
  },
  {
   "cell_type": "code",
   "execution_count": null,
   "id": "c4ba373e",
   "metadata": {},
   "outputs": [],
   "source": [
    "mxc_drought[mxc_drought['YEAR'] == 2013]['value'].value_counts()"
   ]
  },
  {
   "cell_type": "code",
   "execution_count": null,
   "id": "a5728081",
   "metadata": {},
   "outputs": [],
   "source": [
    "# fig = px.choropleth_mapbox(\n",
    "#     avg_merge[avg_merge['YEAR'] == 2013],\n",
    "#     geojson=avg_merge[avg_merge['YEAR'] == 2013].__geo_interface__,\n",
    "#     locations=avg_merge[avg_merge['YEAR'] == 2013].index,  # You can use index if each row is unique\n",
    "#     color=[normalize(x) for x in avg_merge[avg_merge['YEAR'] == 2013]['VALUE']],  # Use categorical value, not raw hex codes\n",
    "#     hover_name=\"NOMBRE_MUN\",\n",
    "#     hover_data=[\"VALUE\", \"NOMBRE_MUN\"],\n",
    "#     color_continuous_scale=custom_scale,\n",
    "#     range_color=[0,1],\n",
    "#     mapbox_style=\"carto-positron\",\n",
    "#     zoom=9,\n",
    "#     center={\"lat\": 19.33, \"lon\": -99.13},\n",
    "#     opacity=0.8,\n",
    "# )\n",
    "\n",
    "# fig.update_layout(\n",
    "#     margin={\"r\":0, \"t\":30, \"l\":0, \"b\":0},\n",
    "#     paper_bgcolor=\"white\",\n",
    "#     title='Estado de sequía en promedio en 2013',\n",
    "#     width=1000,    # width in pixels\n",
    "#     height=700,    # height in pixels\n",
    "#     showlegend=False,\n",
    "#     font_size=18\n",
    "# )\n",
    "\n",
    "# fig.show()"
   ]
  },
  {
   "cell_type": "code",
   "execution_count": null,
   "id": "e05fa1d6",
   "metadata": {},
   "outputs": [],
   "source": [
    "mxc_drought[mxc_drought['YEAR'] == 2003]['value'].value_counts()"
   ]
  },
  {
   "cell_type": "code",
   "execution_count": null,
   "id": "a2f8fc0a",
   "metadata": {},
   "outputs": [],
   "source": [
    "# fig = px.choropleth_mapbox(\n",
    "#     avg_merge[avg_merge['YEAR'] == 2003],\n",
    "#     geojson=avg_merge[avg_merge['YEAR'] == 2003].__geo_interface__,\n",
    "#     locations=avg_merge[avg_merge['YEAR'] == 2003].index,  # You can use index if each row is unique\n",
    "#     color=[normalize(x) for x in avg_merge[avg_merge['YEAR'] == 2003]['VALUE']],  # Use categorical value, not raw hex codes\n",
    "#     hover_name=\"NOMBRE_MUN\",\n",
    "#     hover_data=[\"VALUE\", \"NOMBRE_MUN\"],\n",
    "#     color_continuous_scale=custom_scale,\n",
    "#     range_color=[0,1],\n",
    "#     mapbox_style=\"carto-positron\",\n",
    "#     zoom=9,\n",
    "#     center={\"lat\": 19.33, \"lon\": -99.13},\n",
    "#     opacity=0.8,\n",
    "# )\n",
    "\n",
    "# fig.update_layout(\n",
    "#     margin={\"r\":0, \"t\":30, \"l\":0, \"b\":0},\n",
    "#     paper_bgcolor=\"white\",\n",
    "#     title='Estado de sequía en promedio en 2003',\n",
    "#     width=1000,    # width in pixels\n",
    "#     height=700,    # height in pixels\n",
    "#     showlegend=False,\n",
    "#     font_size=18\n",
    "# )\n",
    "\n",
    "# fig.show()"
   ]
  },
  {
   "cell_type": "markdown",
   "id": "602a8d0b",
   "metadata": {},
   "source": [
    "* All history 2003-2023"
   ]
  },
  {
   "cell_type": "code",
   "execution_count": null,
   "id": "bb352ff6",
   "metadata": {},
   "outputs": [],
   "source": [
    "# # Aggregate data\n",
    "# t = mxc_drought.groupby(by=['DATE', 'MONTH', 'YEAR'])['VALUE'].mean().reset_index()\n",
    "# t['DATE'] = pd.to_datetime(t['DATE'])\n",
    "\n",
    "# # Filter date range (2003 to 2023)\n",
    "# t_filtered = t[(t['DATE'] >= \"2003-01-01\") & (t['DATE'] <= \"2023-12-31\")]\n",
    "\n",
    "# # Create Plotly line plot\n",
    "# fig = px.line(\n",
    "#     t_filtered,\n",
    "#     x='DATE',\n",
    "#     y='VALUE',\n",
    "#     markers=True,\n",
    "#     labels={'VALUE': 'Drought Category', 'DATE': 'Date'},\n",
    "#     title='Escasez del agua en Ciudad de México (0 - sin escasez, 6 - alta escasez)'\n",
    "# )\n",
    "\n",
    "# # Set y-axis ticks manually\n",
    "# fig.update_yaxes(tickmode='array', tickvals=[1, 2, 3, 4, 5, 6])\n",
    "\n",
    "# # Format x-axis range and tick labels\n",
    "# fig.update_xaxes(\n",
    "#     range=[t_filtered['DATE'].min(), t_filtered['DATE'].max()],\n",
    "#     tickformat=\"%Y\",\n",
    "#     dtick=\"M12\",  # One tick every 12 months\n",
    "#     tickangle=45\n",
    "# )\n",
    "\n",
    "# fig.update_layout(\n",
    "#     width=2400,\n",
    "#     height=650,\n",
    "#     template='plotly_white'\n",
    "# )\n",
    "\n",
    "# fig.show()\n"
   ]
  },
  {
   "cell_type": "markdown",
   "id": "31df2289",
   "metadata": {},
   "source": [
    "### Reportes de Agua\n",
    "\n",
    "Info : \n",
    "- Data ranging from 2018 to 2024\n",
    "\n",
    "* History of reports\n",
    "    * The most common report\n",
    "    * Separate all this by alcaldia and colonia\n",
    "\n",
    "* Analyze time and identify trends/patterns in which all this reports are made.\n",
    "    * Tipically after what hour or during which range of hours."
   ]
  },
  {
   "cell_type": "code",
   "execution_count": null,
   "id": "eb8de760",
   "metadata": {},
   "outputs": [],
   "source": [
    "data_reports_22_24 = data_water_reps_22_24[['fecha_reporte','hora_reporte', 'reporte', 'alcaldia_catalogo', 'colonia_catalogo', 'longitud', 'latitud']]\n",
    "data_reports_hist_22 = data_water_reps_hist[['fecha','tipo_de_falla', 'alcaldia', 'colonia_datos_abiertos', 'longitud', 'latitud']]\n",
    "\n",
    "new_names_cols = {'tipo_de_falla' : 'reporte', \n",
    "                  'alcaldia_catalogo' : 'alcaldia', \n",
    "                  'colonia_catalogo' : 'colonia',\n",
    "                  'colonia_datos_abiertos' : 'colonia',\n",
    "                  'fecha_reporte' : 'fecha'\n",
    "                  }\n",
    "\n",
    "data_reports_hist_22.rename(columns=new_names_cols, inplace=True)\n",
    "data_reports_22_24.rename(columns=new_names_cols, inplace=True)\n",
    "\n",
    "all_reports = pd.concat([data_reports_22_24, data_reports_hist_22], axis=0)\n",
    "\n",
    "all_reports['fecha'] = pd.to_datetime(all_reports['fecha'])\n",
    "all_reports['year'] = all_reports['fecha'].dt.year\n",
    "all_reports['month_name'] = all_reports['fecha'].dt.month_name()\n",
    "all_reports['month'] = all_reports['fecha'].dt.month\n",
    "\n",
    "all_reports = all_reports.dropna(subset=['alcaldia', 'colonia'])\n",
    "all_reports.head()"
   ]
  },
  {
   "cell_type": "code",
   "execution_count": null,
   "id": "89959d83",
   "metadata": {},
   "outputs": [],
   "source": [
    "# Most common reports per year\n",
    "reports_count_p_y = all_reports.groupby(by=['year', 'reporte']).size().reset_index(name='report_count')\n",
    "pivot = reports_count_p_y.pivot_table(index='year', columns='reporte', values='report_count')\n",
    "pivot.fillna(0, inplace=True)\n",
    "\n",
    "# Make a copy of your table\n",
    "df = pivot.copy()\n",
    "keep = ['Fuga', 'Falta de agua']\n",
    "df['Otro'] = df.drop(columns=keep).sum(axis=1)\n",
    "\n",
    "# Keep only desired + 'Otros'\n",
    "df_filtered = df[keep + ['Otro']]\n",
    "\n",
    "# Melt the data to long format\n",
    "df_long = df_filtered.reset_index().melt(id_vars='year', var_name='Tipo de Reporte', value_name='Cantidad')\n",
    "\n",
    "# Ensure month order\n",
    "import calendar\n",
    "# df_long['month_name'] = pd.Categorical(df_long['month_name'], categories=list(calendar.month_name[1:]), ordered=True)\n",
    "\n",
    "fig = px.bar(\n",
    "    df_long,\n",
    "    x='year',\n",
    "    y='Cantidad',\n",
    "    color='Tipo de Reporte',\n",
    "    title='Reportes por Mes: Fuga, Falta de Agua y Otros',\n",
    "    barmode='stack',\n",
    "    labels={'year': 'Año'}\n",
    ")\n",
    "\n",
    "fig.update_layout(template=\"plotly_white\")\n",
    "fig.show()"
   ]
  },
  {
   "cell_type": "code",
   "execution_count": null,
   "id": "c8b19e30",
   "metadata": {},
   "outputs": [],
   "source": [
    "# Most common reports per month name\n",
    "reports_count_p_y = all_reports.groupby(by=['month', 'month_name', 'reporte']).size().reset_index(name='report_count')\n",
    "pivot = reports_count_p_y.pivot_table(index=['month','month_name'], columns='reporte', values='report_count')\n",
    "pivot\n",
    "\n",
    "df = pivot.copy()\n",
    "keep = ['Fuga', 'Falta de agua']\n",
    "df['Otro'] = df.drop(keep, axis=1).sum(axis=1)\n",
    "df_filtered = df[keep + ['Otro']]\n",
    "\n",
    "# Melt the data to long format\n",
    "df_long = df_filtered.reset_index().melt(id_vars=['month', 'month_name'], var_name='Tipo de Reporte', value_name='Cantidad')\n",
    "\n",
    "# Ensure month order\n",
    "import calendar\n",
    "# df_long['month_name'] = pd.Categorical(df_long['month_name'], categories=list(calendar.month_name[1:]), ordered=True)\n",
    "\n",
    "fig = px.bar(\n",
    "    df_long,\n",
    "    x='month_name',\n",
    "    y='Cantidad',\n",
    "    color='Tipo de Reporte',\n",
    "    title='Reportes por Mes: Fuga, Falta de Agua y Otros',\n",
    "    barmode='stack',\n",
    "    labels={'month_name': 'Año'}\n",
    ")\n",
    "\n",
    "fig.update_layout(template=\"plotly_white\")\n",
    "fig.show()"
   ]
  },
  {
   "cell_type": "markdown",
   "id": "4c5ee7cd",
   "metadata": {},
   "source": [
    "* More stressing hour"
   ]
  },
  {
   "cell_type": "code",
   "execution_count": null,
   "id": "9c152fca",
   "metadata": {},
   "outputs": [],
   "source": [
    "all_reports"
   ]
  },
  {
   "cell_type": "code",
   "execution_count": null,
   "id": "f982c681",
   "metadata": {},
   "outputs": [],
   "source": [
    "# # Example: assuming your DataFrame is called df and has 'lat', 'lon' columns\n",
    "# # You can also include a weight column like 'count' or 'intensity'\n",
    "\n",
    "# fig = px.density_mapbox(\n",
    "#     all_reports,\n",
    "#     lat='latitud',\n",
    "#     lon='longitud',\n",
    "#     z=None,  # Optional: pass a weight column here\n",
    "#     radius=10,  # adjust for smoother or sharper heatmap\n",
    "#     center=dict(lat=all_reports['latitud'].mean(), lon=all_reports['longitud'].mean()),\n",
    "#     zoom=10,\n",
    "#     mapbox_style=\"carto-positron\",  # you can change this to \"stamen-terrain\", \"open-street-map\", etc.\n",
    "#     title=\"Heatmap of Reports\",\n",
    "#     # zoom=9,\n",
    "#     # center={\"lat\": 19.33, \"lon\": -99.13},\n",
    "#     opacity=0.8,\n",
    "# )\n",
    "\n",
    "# fig.update_layout(\n",
    "#     margin={\"r\":0, \"t\":30, \"l\":0, \"b\":0},\n",
    "#     paper_bgcolor=\"white\",\n",
    "#     title='Reportes de falta de agua en las colonias de la Ciudad de México',\n",
    "#     width=1000,    # width in pixels\n",
    "#     height=700,    # height in pixels\n",
    "#     showlegend=False,\n",
    "#     font_size=18\n",
    "# )\n",
    "\n",
    "# fig.show()"
   ]
  },
  {
   "cell_type": "markdown",
   "id": "d03aa767",
   "metadata": {},
   "source": [
    "* Reporte de falta de agua por colonia (mapa) (desde 2018 a 2024)"
   ]
  },
  {
   "cell_type": "code",
   "execution_count": null,
   "id": "eba638c8",
   "metadata": {},
   "outputs": [],
   "source": [
    "all_reports.groupby"
   ]
  },
  {
   "cell_type": "markdown",
   "id": "b1b79a24",
   "metadata": {},
   "source": [
    "* Reporte de fuga por colonia (mapa) (desde 2018 a 2024)"
   ]
  },
  {
   "cell_type": "code",
   "execution_count": null,
   "id": "ff6904c0",
   "metadata": {},
   "outputs": [],
   "source": []
  },
  {
   "cell_type": "markdown",
   "id": "5b73a684",
   "metadata": {},
   "source": [
    "## Visualization Analysis"
   ]
  },
  {
   "cell_type": "code",
   "execution_count": null,
   "id": "12e6acd3",
   "metadata": {},
   "outputs": [],
   "source": [
    "# Plot both on the same axes\n",
    "fig, ax = plt.subplots(figsize=(12, 12))\n",
    "\n",
    "# Plot first GeoDataFrame (e.g., red outlines) and fill by 'grado'\n",
    "data_concentracion.plot(ax=ax, column='ID', cmap='viridis',linewidth=0.5, label='Concentration Zones', legend=True)\n",
    "\n",
    "# Plot second GeoDataFrame (e.g., blue fills)\n",
    "data_hogares_col.plot(ax=ax, facecolor=\"none\", alpha=0.2,)\n",
    "\n",
    "# Add legend and grid\n",
    "plt.grid(True)\n",
    "plt.title(\"Concentración Habitacional\")\n",
    "plt.show()"
   ]
  },
  {
   "cell_type": "code",
   "execution_count": null,
   "id": "302c3451",
   "metadata": {},
   "outputs": [],
   "source": [
    "data_hogares_col.plot(column='VivHab2020', figsize=(10, 10), legend=True, cmap='viridis')"
   ]
  },
  {
   "cell_type": "code",
   "execution_count": null,
   "id": "beb907d7",
   "metadata": {},
   "outputs": [],
   "source": [
    "data_zonas_valor.plot(column=\"RANGOS\", legend=True)"
   ]
  }
 ],
 "metadata": {
  "kernelspec": {
   "display_name": "Kernelsote",
   "language": "python",
   "name": "python3"
  },
  "language_info": {
   "codemirror_mode": {
    "name": "ipython",
    "version": 3
   },
   "file_extension": ".py",
   "mimetype": "text/x-python",
   "name": "python",
   "nbconvert_exporter": "python",
   "pygments_lexer": "ipython3",
   "version": "3.11.0"
  }
 },
 "nbformat": 4,
 "nbformat_minor": 5
}
