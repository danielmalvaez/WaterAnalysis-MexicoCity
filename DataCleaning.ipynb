{
 "cells": [
  {
   "cell_type": "markdown",
   "id": "bd4174ac",
   "metadata": {},
   "source": [
    "# Data Preprocessing for Water Analysis in Mexico City\n",
    "\n",
    "* Date : Aug 2025\n",
    "* Author : Axel Daniel Malváez Flores\n",
    "* Description : This notebook contains the data preprocessing steps for the water analysis project in Mexico City. It includes loading, cleaning, and transforming various datasets related to water consumption, property data, and population data."
   ]
  },
  {
   "cell_type": "markdown",
   "id": "4f4617f9",
   "metadata": {},
   "source": [
    "### Libraries"
   ]
  },
  {
   "cell_type": "code",
   "execution_count": 95,
   "id": "157f9ee0",
   "metadata": {},
   "outputs": [],
   "source": [
    "import pandas as pd\n",
    "import numpy as np\n",
    "import geopandas as gpd\n",
    "\n",
    "import json\n",
    "import warnings\n",
    "\n",
    "warnings.filterwarnings(\"ignore\")"
   ]
  },
  {
   "cell_type": "markdown",
   "id": "6c0b7d39",
   "metadata": {},
   "source": [
    "### Constants"
   ]
  },
  {
   "cell_type": "code",
   "execution_count": 96,
   "id": "11c01e42",
   "metadata": {},
   "outputs": [],
   "source": [
    "# WATER DATASETS\n",
    "\n",
    "# Data consumption during the whole 2019 by neighborhood\n",
    "watConsPath=\"../raw-data/water/consumo/consumo_agua_historico_2019.csv\"\n",
    "# Municipalities with drought data and higher/lower probability of drought\n",
    "droughtPath=\"../raw-data/water/sequia/Municipios_con_ sequia.xlsx\"\n",
    "# Water Reports in Mexico City by neighborhood.\n",
    "reports2224Path=\"../raw-data/water/reportes/reportes_agua_2024_01.csv\"\n",
    "reportsHistory=\"../raw-data/water/reportes/reportes_agua_hist.csv\"\n",
    "# Hidric feasibility\n",
    "hidFeasPath=\"../raw-data/water/factibilidad/factibilidad-hdrica.json\"\n",
    "# Consumption every two months by neighborhood\n",
    "habPath=(\"../raw-data/water/consumo/consumo-habitacional-promedio-\"\n",
    "           \"bimestral-de-agua-por-colonia-m3.json\")    \n",
    "\n",
    "# PROPERTY DATASETS\n",
    "\n",
    "# Index SHF for housing price in the area\n",
    "indexSHFPath=\"../raw-data/property-population/SHF/indice_SHF.csv\"\n",
    "# Population Growth Rate\n",
    "growthRateAlcPath=(\"../raw-data/property-population/CrecimientoPoblacional/\"\n",
    "                     \"poblacion_total_tasa_crecimiento_alcaldia_1.2.csv\")\n",
    "# Density\n",
    "housesColPath=(\"../raw-data/property-population/\"\n",
    "                \"Hogares por colonia/hogares_colonia.shp\")\n",
    "# Concentración habitacional\n",
    "densPath = (\"../raw-data/property-population/alta_concentracion/\"\n",
    "            \"zonas_vivienda.shp\")\n",
    "\n",
    "# ALCALDIA DELIMITATION\n",
    "\n",
    "alcaldiaPath = \"../raw-data/water/sequia/limite-de-las-alcaldias.json\""
   ]
  },
  {
   "cell_type": "markdown",
   "id": "ea1b194a",
   "metadata": {},
   "source": [
    "### Data Reading and Preprocessing"
   ]
  },
  {
   "cell_type": "code",
   "execution_count": 97,
   "id": "600614a9",
   "metadata": {},
   "outputs": [],
   "source": [
    "# ---------------------\n",
    "# WATER DATA\n",
    "# ---------------------\n",
    "\n",
    "# Water Consumption 2019\n",
    "watCons19 = pd.read_csv(watConsPath)\n",
    "watCons19.drop_duplicates(inplace=True)\n",
    "\n",
    "# Drought MEX CITY\n",
    "drought = pd.read_excel(droughtPath, sheet_name='MONITOR - SEMAFORO - USO EFIC')\n",
    "cldCols = drought.columns.to_series().where(\n",
    "    ~drought.columns.str.contains('^Unnamed'), '')\n",
    "drought.columns = [x + '/' + y if x != '' else y \n",
    "                    for x, y in zip(cldCols, drought.iloc[0].astype(str))]\n",
    "drought = drought.iloc[1:].reset_index().iloc[:,1:]\n",
    "\n",
    "# Water Reports in Mexico City by neighborhood.\n",
    "reports2224 = pd.read_csv(reports2224Path)\n",
    "reportsHist = pd.read_csv(reportsHistory)\n",
    "\n",
    "# Hidric feasibility\n",
    "with open(hidFeasPath, \"r\", encoding=\"utf-8\") as f : \n",
    "    feasFeat = json.load(f)\n",
    "feasibility = gpd.GeoDataFrame.from_features(feasFeat[\"features\"])\n",
    "\n",
    "# Consumption every two months by neighborhood\n",
    "with open(habPath, \"r\", encoding=\"utf-8\") as f : \n",
    "    habConsFeats = json.load(f)\n",
    "habCons = gpd.GeoDataFrame.from_features(habConsFeats['features'])\n",
    "\n",
    "# ---------------------\n",
    "# PROPERTY DATA\n",
    "# ---------------------\n",
    "\n",
    "hogaresCol = gpd.read_file(housesColPath) \n",
    "indexSHF = pd.read_csv(indexSHFPath, encoding='iso-8859-1', delimiter=';')\n",
    "popGrowthRateAlc = pd.read_csv(growthRateAlcPath,encoding='utf-8')\n",
    "density = gpd.read_file(densPath)\n",
    "\n",
    "\n",
    "# --------------------\n",
    "# ALCALDIA DATA\n",
    "# --------------------\n",
    "\n",
    "with open(alcaldiaPath, 'r', encoding='utf-8') as f:\n",
    "    data = json.load(f)\n",
    "alcaldiaGeo = gpd.GeoDataFrame.from_features(data['features'])"
   ]
  },
  {
   "cell_type": "markdown",
   "id": "9df8c940",
   "metadata": {},
   "source": [
    "### Processing Datasets"
   ]
  },
  {
   "cell_type": "markdown",
   "id": "56e1686b",
   "metadata": {},
   "source": [
    "#### Water Consumption Data 2019\n",
    "\n",
    "Información bimestral por el concepto de suministro de agua a nivel manzana, considerando la facturación por servicio de consumo medido y promedio."
   ]
  },
  {
   "cell_type": "code",
   "execution_count": 98,
   "id": "2c636413",
   "metadata": {},
   "outputs": [],
   "source": [
    "# Date \n",
    "watCons19['fecha_referencia'] = pd.to_datetime(watCons19['fecha_referencia'],\n",
    "                                               format='ISO8601')\n",
    "\n",
    "# Drop Duplicates \n",
    "watCons19[['fecha_referencia', 'anio', 'bimestre', 'indice_des', 'colonia',\n",
    "           'alcaldia', 'latitud', 'longitud']].drop_duplicates(inplace=True)\n",
    "\n",
    "# Adding derived columns for total consumption\n",
    "inDom = watCons19['consumo_total_dom'] / watCons19['consumo_prom_dom']\n",
    "watCons19['inmuebles_domesticos'] = inDom\n",
    "\n",
    "inNoDom = watCons19['consumo_total_no_dom'] / watCons19['consumo_prom_no_dom']\n",
    "watCons19['inmuebles_no_domesticos'] = inNoDom\n",
    "\n",
    "inMix = watCons19['consumo_total_mixto'] / watCons19['consumo_prom_mixto']\n",
    "watCons19['inmuebles_mixtos'] = inMix\n",
    "\n",
    "# replace NaN values with 0 in the derived column\n",
    "watCons19['inmuebles_domesticos'].fillna(0, inplace=True)\n",
    "watCons19['inmuebles_no_domesticos'].fillna(0, inplace=True)\n",
    "watCons19['inmuebles_mixtos'].fillna(0, inplace=True)\n",
    "\n",
    "# Data structure and column ordering\n",
    "watCons19 = watCons19[['fecha_referencia', 'consumo_total',\n",
    "                       'inmuebles_domesticos', 'consumo_total_dom',\n",
    "                       'consumo_prom_dom', 'inmuebles_no_domesticos',\n",
    "                       'consumo_total_no_dom', 'consumo_prom_no_dom',\n",
    "                       'inmuebles_mixtos', 'consumo_total_mixto',\n",
    "                       'consumo_prom_mixto', 'indice_des', 'colonia',\n",
    "                       'alcaldia']]\n",
    "\n",
    "# Adding total consumption and total number of properties\n",
    "watCons19['total_inmuebles'] = inDom + inNoDom + inMix"
   ]
  },
  {
   "cell_type": "markdown",
   "id": "f1518828",
   "metadata": {},
   "source": [
    "* OUTPUT"
   ]
  },
  {
   "cell_type": "code",
   "execution_count": 99,
   "id": "f6cf542f",
   "metadata": {},
   "outputs": [],
   "source": [
    "watCons19.to_csv(\"../data/consumoAgua19.csv\", index=False)"
   ]
  },
  {
   "cell_type": "markdown",
   "id": "d9c810e6",
   "metadata": {},
   "source": [
    "#### Factibility Data"
   ]
  },
  {
   "cell_type": "markdown",
   "id": "c8e045a2",
   "metadata": {},
   "source": [
    "| Grado de Factibilidad Hídrica | Descripción / Significado                                | Color       \n",
    "| ----------------------------- | -------------------------------------------------------- | ----------- \n",
    "| Alta factibilidad 🌟          | Zonas con alta capacidad para mitigar riesgo de escasez  | 🟩 Verde    \n",
    "| Media-alta factibilidad ⚠️    | Zonas con buena capacidad, pero con algunas limitaciones | 🟨 Amarillo \n",
    "| Media-baja factibilidad 🔶    | Zonas con capacidad limitada para mitigar riesgo         | 🟧 Naranja  \n",
    "| Baja factibilidad ❌           | Zonas con poca o nula capacidad para mitigar riesgo      | 🟥 Rojo    "
   ]
  },
  {
   "cell_type": "code",
   "execution_count": 100,
   "id": "fc724a14",
   "metadata": {},
   "outputs": [],
   "source": [
    "# Deleting last value since it contains an invalid coordinate\n",
    "feasibility = feasibility.iloc[:-1,:]\n",
    "feasibility.rename(columns={'NOMBRE':'colonia', 'DELEGACIO' : 'alcaldia'}, inplace=True)"
   ]
  },
  {
   "cell_type": "code",
   "execution_count": 101,
   "id": "ddf82fbd",
   "metadata": {},
   "outputs": [],
   "source": [
    "feasibility.to_csv(\"../data/feasibilityMexCity.csv\", index=False)"
   ]
  },
  {
   "cell_type": "markdown",
   "id": "adf96496",
   "metadata": {},
   "source": [
    "#### [Do not require preprocessing] Habitational Consumption Data"
   ]
  },
  {
   "cell_type": "markdown",
   "id": "5337bdac",
   "metadata": {},
   "source": [
    "Diccionario : \n",
    "\n",
    "**SUM_cons_t**   \n",
    "Suma del consumo total de agua por colonia (m3) por bimestre\n",
    "\n",
    "**MEAN_cons_**   \n",
    "Promedio de consumo total de colonia (m3) por bimestre\n",
    "\n",
    "**VIV2010**   \n",
    "Vivienda censo 2010\n",
    "\n",
    "**PROMVIVCON**   \n",
    "\"Promedio de consumo total de agua de la colonia por número de viviendas\"\n",
    "\n",
    "**C_PROMVIVC**   \n",
    "\"Campo reclasificado en cuantiles en 5 rangos a partir de \"PROMVIVCON\"; donde el valor \"5\" corresponde a un consumo de agua muy alto, mientras que el número \"1\" a un consumo bajo\"\n",
    "\n"
   ]
  },
  {
   "cell_type": "markdown",
   "id": "4daada8d",
   "metadata": {},
   "source": [
    "#### Probabilidad de Escasez"
   ]
  },
  {
   "cell_type": "code",
   "execution_count": 102,
   "id": "9fdb8146",
   "metadata": {},
   "outputs": [],
   "source": [
    "# Setting CRS to standard and geo interface\n",
    "alcaldiaCDMX = alcaldiaGeo.set_crs(epsg=4326, inplace=True)\n",
    "geojson = alcaldiaCDMX.__geo_interface__\n",
    "\n",
    "# Identify idVars (the static columns)\n",
    "idVars = ['Region de lluvias y fecha de solicitud de corroboración', \n",
    "           'CVE_CONCATENADA', 'CVE_ENT', 'CVE_MUN', 'NOMBRE_MUN', 'ENTIDAD',\n",
    "           'ORG_CUENCA', 'CLV_OC', 'CON_CUENCA', 'CVE_CONC']\n",
    "\n",
    "# Melt all other columns\n",
    "meltedDF = drought.melt(id_vars=idVars,\n",
    "                         var_name='variable',\n",
    "                         value_name='value')\n",
    "\n",
    "# Create category and date columns\n",
    "category = []\n",
    "date = []\n",
    "for i in meltedDF['variable'].astype(str):\n",
    "    tup = i.split('/')\n",
    "    category.append(tup[0])\n",
    "    date.append(tup[1])\n",
    "\n",
    "meltedDF['CATEGORY'] = category\n",
    "meltedDF['CATEGORY'] = meltedDF['CATEGORY'].str.replace(r'\\.\\d+$', '',\n",
    "                                                          regex=True)\n",
    "\n",
    "meltedDF['DATE'] = pd.to_datetime(date)\n",
    "meltedDF['MONTH'] = meltedDF['DATE'].dt.month_name()\n",
    "meltedDF['YEAR'] = meltedDF['DATE'].dt.year\n",
    "meltedDF['DATE'] = meltedDF['DATE'].dt.strftime('%Y-%m')\n",
    "\n",
    "# Mexico city filter, adding map and taking MAGNITUD value only\n",
    "mxcDrought = meltedDF[(meltedDF['ENTIDAD'] == 'Ciudad de México')\n",
    "                        & (meltedDF['CATEGORY'] == 'MAGNITUD')]\n",
    "mxcDrought = pd.merge(mxcDrought, alcaldiaCDMX[['CVE_MUN', 'geometry']],\n",
    "                       on='CVE_MUN', how='left')\n",
    "\n",
    "color_map = {\n",
    "    'SIN SEQUIA': '#f0f0f0',     # Very light gray / near white\n",
    "    'PRE-ALERTA': '#a6d96a',     # Light gray\n",
    "    'VERDE': '#1a9850',          # Dark green\n",
    "    'AMARILLO': '#ffffbf',       # Yellow\n",
    "    'NARANJA': '#fdae61',        # Orange\n",
    "    'ROJO': '#d73027'            # Red\n",
    "}\n",
    "\n",
    "mxcDrought['color'] = mxcDrought[mxcDrought['CATEGORY'] == 'MAGNITUD']['value'].map(color_map)\n",
    "mxcDrought = gpd.GeoDataFrame(mxcDrought, geometry='geometry')\n",
    "# mxcDrought[\"geometry\"] = mxcDrought[\"geometry\"].simplify(tolerance=0.0005,\n",
    "# preserve_topology=True)\n",
    "\n",
    "# Data Processing\n",
    "number_map = {\n",
    "    'SIN SEQUIA': 1,     # Very light gray / near white\n",
    "    'PRE-ALERTA': 2,     # Light gray\n",
    "    'VERDE': 3,          # Dark green\n",
    "    'AMARILLO': 4,       # Yellow\n",
    "    'NARANJA': 5,        # Orange\n",
    "    'ROJO': 6            # Red\n",
    "}\n",
    "\n",
    "mxcDrought['VALUE'] = mxcDrought[mxcDrought['CATEGORY'] == 'MAGNITUD']['value'].map(number_map)\n",
    "mxcDrought['DATE'] = pd.to_datetime(mxcDrought['DATE'])"
   ]
  },
  {
   "cell_type": "markdown",
   "id": "ceb4c31b",
   "metadata": {},
   "source": [
    "* OUTPUT"
   ]
  },
  {
   "cell_type": "code",
   "execution_count": 103,
   "id": "ef35cf5c",
   "metadata": {},
   "outputs": [],
   "source": [
    "mxcDrought.to_csv(\"../data/droughtMexCity.csv\", index=False)"
   ]
  },
  {
   "cell_type": "markdown",
   "id": "a48a4b41",
   "metadata": {},
   "source": [
    "### Reportes de Agua"
   ]
  },
  {
   "cell_type": "markdown",
   "id": "c01a57a7",
   "metadata": {},
   "source": [
    "Info : \n",
    "- Data ranging from 2018 to 2024\n",
    "\n",
    "* History of reports\n",
    "    * The most common report\n",
    "    * Separate all this by alcaldia and colonia\n",
    "\n",
    "* Analyze time and identify trends/patterns in which all this reports are made.\n",
    "    * Tipically after what hour or during which range of hours."
   ]
  },
  {
   "cell_type": "code",
   "execution_count": 104,
   "id": "9a2934f6",
   "metadata": {},
   "outputs": [],
   "source": [
    "reports2224 = reports2224[['fecha_reporte','hora_reporte', 'reporte',\n",
    "                           'alcaldia_catalogo', 'colonia_catalogo',\n",
    "                           'longitud', 'latitud']]\n",
    "reportsHist = reportsHist[['fecha','tipo_de_falla', 'alcaldia',\n",
    "                           'colonia_datos_abiertos', 'longitud', 'latitud']]\n",
    "\n",
    "new_names_cols = {'tipo_de_falla' : 'reporte', \n",
    "                  'alcaldia_catalogo' : 'alcaldia', \n",
    "                  'colonia_catalogo' : 'colonia',\n",
    "                  'colonia_datos_abiertos' : 'colonia',\n",
    "                  'fecha_reporte' : 'fecha'\n",
    "                  }\n",
    "\n",
    "reportsHist.rename(columns=new_names_cols, inplace=True)\n",
    "reports2224.rename(columns=new_names_cols, inplace=True)\n",
    "\n",
    "all_reports = pd.concat([reports2224, reportsHist], axis=0)\n",
    "\n",
    "all_reports['fecha'] = pd.to_datetime(all_reports['fecha'])\n",
    "all_reports['year'] = all_reports['fecha'].dt.year\n",
    "all_reports['month_name'] = all_reports['fecha'].dt.month_name()\n",
    "all_reports['month'] = all_reports['fecha'].dt.month\n",
    "\n",
    "all_reports = all_reports.dropna(subset=['alcaldia', 'colonia'])"
   ]
  },
  {
   "cell_type": "markdown",
   "id": "2a002655",
   "metadata": {},
   "source": [
    "* OUTPUT"
   ]
  },
  {
   "cell_type": "code",
   "execution_count": 105,
   "id": "a56ec9c7",
   "metadata": {},
   "outputs": [],
   "source": [
    "all_reports.to_csv(\"../data/reportsAllHist.csv\", index=False)"
   ]
  },
  {
   "cell_type": "markdown",
   "id": "594e127a",
   "metadata": {},
   "source": [
    "### Habitational Density"
   ]
  },
  {
   "cell_type": "code",
   "execution_count": 106,
   "id": "ddcbf038",
   "metadata": {},
   "outputs": [],
   "source": [
    "# 1. Ensure both GeoDataFrames use the same coordinate reference system (CRS)\n",
    "hogaresCol = hogaresCol.to_crs(density.crs)\n",
    "\n",
    "# 2. Perform spatial join\n",
    "hogares_with_grado = gpd.sjoin(\n",
    "    hogaresCol,\n",
    "    density[['geometry', 'grado', 'ID']],  # only keep necessary columns\n",
    "    predicate='intersects',  # 'intersects' if geometries overlap partially\n",
    "    how='left'\n",
    ")"
   ]
  },
  {
   "cell_type": "markdown",
   "id": "e9ec3ac7",
   "metadata": {},
   "source": [
    "* OUTPUT"
   ]
  },
  {
   "cell_type": "code",
   "execution_count": 107,
   "id": "7e01206e",
   "metadata": {},
   "outputs": [],
   "source": [
    "density.to_csv(\"../data/density.csv\", index=False)"
   ]
  },
  {
   "cell_type": "code",
   "execution_count": 108,
   "id": "eeab2d02",
   "metadata": {},
   "outputs": [],
   "source": [
    "hogaresCol.to_csv(\"../data/hogaresCol.csv\", index=False)"
   ]
  },
  {
   "cell_type": "markdown",
   "id": "0140f396",
   "metadata": {},
   "source": [
    "### SHF Index"
   ]
  },
  {
   "cell_type": "code",
   "execution_count": 109,
   "id": "7dd42552",
   "metadata": {},
   "outputs": [],
   "source": [
    "indexSHF['Indice'] = indexSHF['Indice'].replace(r\",\", \".\",regex=True)\n",
    "indexSHF['Indice'] = indexSHF['Indice'].astype(float)\n",
    "\n",
    "dict_trimestres = {1:'03',\n",
    "                   2:'06',\n",
    "                   3:'09',\n",
    "                   4:'12'}\n",
    "\n",
    "\n",
    "indexSHF['fecha'] = indexSHF.apply(lambda x : str(x['Año']) + '-' + dict_trimestres[int(x['Trimestre'])], axis = 1)\n",
    "indexSHF['fecha'] = pd.to_datetime(indexSHF['fecha'])"
   ]
  },
  {
   "cell_type": "markdown",
   "id": "bf825116",
   "metadata": {},
   "source": [
    "* OUTPUT"
   ]
  },
  {
   "cell_type": "code",
   "execution_count": 110,
   "id": "af867c52",
   "metadata": {},
   "outputs": [],
   "source": [
    "indexSHF.to_csv(\"../data/indexSHF.csv\", index=False)"
   ]
  }
 ],
 "metadata": {
  "kernelspec": {
   "display_name": "Kernelsote",
   "language": "python",
   "name": "python3"
  },
  "language_info": {
   "codemirror_mode": {
    "name": "ipython",
    "version": 3
   },
   "file_extension": ".py",
   "mimetype": "text/x-python",
   "name": "python",
   "nbconvert_exporter": "python",
   "pygments_lexer": "ipython3",
   "version": "3.11.0"
  }
 },
 "nbformat": 4,
 "nbformat_minor": 5
}
